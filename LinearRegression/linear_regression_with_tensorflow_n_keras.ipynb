{
 "cells": [
  {
   "cell_type": "code",
   "execution_count": 1,
   "id": "d446f776",
   "metadata": {},
   "outputs": [
    {
     "name": "stdout",
     "output_type": "stream",
     "text": [
      "Your current tensorflow version is:  2.9.1\n"
     ]
    }
   ],
   "source": [
    "import tensorflow as tf\n",
    "print(\"Your current tensorflow version is: \", tf.__version__)"
   ]
  },
  {
   "cell_type": "code",
   "execution_count": 2,
   "id": "9743532f",
   "metadata": {},
   "outputs": [
    {
     "name": "stdout",
     "output_type": "stream",
     "text": [
      "[name: \"/device:CPU:0\"\n",
      "device_type: \"CPU\"\n",
      "memory_limit: 268435456\n",
      "locality {\n",
      "}\n",
      "incarnation: 2829215767029443220\n",
      "xla_global_id: -1\n",
      "]\n"
     ]
    }
   ],
   "source": [
    "from tensorflow.python.client import device_lib\n",
    "print(device_lib.list_local_devices())"
   ]
  },
  {
   "cell_type": "code",
   "execution_count": 6,
   "id": "385f9477",
   "metadata": {},
   "outputs": [
    {
     "name": "stdout",
     "output_type": "stream",
     "text": [
      "Num GPUs Available:  []\n"
     ]
    }
   ],
   "source": [
    "print(\"Num GPUs Available: \", tf.config.list_physical_devices('GPU'))"
   ]
  },
  {
   "cell_type": "markdown",
   "id": "a5c2dc2c",
   "metadata": {},
   "source": [
    "## Tensor: Multi dimensional array used in Tensorflow\n",
    "- Constant\n",
    "- Variable"
   ]
  },
  {
   "cell_type": "code",
   "execution_count": 3,
   "id": "671ac9b2",
   "metadata": {},
   "outputs": [],
   "source": [
    "import numpy as np"
   ]
  },
  {
   "cell_type": "code",
   "execution_count": 4,
   "id": "554e2f28",
   "metadata": {},
   "outputs": [
    {
     "name": "stdout",
     "output_type": "stream",
     "text": [
      "your tensor rank is 0\n"
     ]
    },
    {
     "data": {
      "text/plain": [
       "<tf.Tensor: shape=(), dtype=int32, numpy=3>"
      ]
     },
     "execution_count": 4,
     "metadata": {},
     "output_type": "execute_result"
    }
   ],
   "source": [
    "a = tf.constant(3)\n",
    "print(\"your tensor rank is {}\".format(tf.rank(a)))\n",
    "a"
   ]
  },
  {
   "cell_type": "code",
   "execution_count": 7,
   "id": "b2ecebb8",
   "metadata": {},
   "outputs": [
    {
     "name": "stdout",
     "output_type": "stream",
     "text": [
      "your tensor rank is 2\n"
     ]
    },
    {
     "data": {
      "text/plain": [
       "<tf.Tensor: shape=(2, 2), dtype=int32, numpy=\n",
       "array([[1, 2],\n",
       "       [0, 0]])>"
      ]
     },
     "execution_count": 7,
     "metadata": {},
     "output_type": "execute_result"
    }
   ],
   "source": [
    "b = tf.constant([[1,2],[0,0]])\n",
    "print(\"your tensor rank is {}\".format(tf.rank(b)))\n",
    "b"
   ]
  },
  {
   "cell_type": "code",
   "execution_count": 8,
   "id": "6a7f8c5e",
   "metadata": {},
   "outputs": [
    {
     "name": "stdout",
     "output_type": "stream",
     "text": [
      "your tensor rank is 2\n"
     ]
    },
    {
     "data": {
      "text/plain": [
       "<tf.Tensor: shape=(2, 2), dtype=float64, numpy=\n",
       "array([[0.27137952, 0.89933453],\n",
       "       [0.10702267, 0.003717  ]])>"
      ]
     },
     "execution_count": 8,
     "metadata": {},
     "output_type": "execute_result"
    }
   ],
   "source": [
    "c = tf.constant(np.random.rand(2,2))\n",
    "print(\"your tensor rank is {}\".format(tf.rank(c)))\n",
    "c"
   ]
  },
  {
   "cell_type": "code",
   "execution_count": 9,
   "id": "d40df8b3",
   "metadata": {},
   "outputs": [
    {
     "data": {
      "text/plain": [
       "<tf.Variable 'Variable:0' shape=() dtype=int32, numpy=3>"
      ]
     },
     "execution_count": 9,
     "metadata": {},
     "output_type": "execute_result"
    }
   ],
   "source": [
    "x = tf.Variable(3)\n",
    "x"
   ]
  },
  {
   "cell_type": "code",
   "execution_count": 10,
   "id": "10b3977d",
   "metadata": {},
   "outputs": [
    {
     "data": {
      "text/plain": [
       "<tf.Variable 'Variable:0' shape=() dtype=int32, numpy=3>"
      ]
     },
     "execution_count": 10,
     "metadata": {},
     "output_type": "execute_result"
    }
   ],
   "source": [
    "x = tf.Variable(a)\n",
    "x"
   ]
  },
  {
   "cell_type": "code",
   "execution_count": 11,
   "id": "20a53ee2",
   "metadata": {},
   "outputs": [
    {
     "name": "stdout",
     "output_type": "stream",
     "text": [
      "tf.Tensor(\n",
      "[[1 2]\n",
      " [3 4]], shape=(2, 2), dtype=int32)\n",
      "tf.Tensor(\n",
      "[[1. 2.]\n",
      " [3. 4.]], shape=(2, 2), dtype=float32)\n"
     ]
    }
   ],
   "source": [
    "b = tf.constant([[1,2],\n",
    "                 [3,4]])\n",
    "print(b)\n",
    "\n",
    "b = tf.cast(b, dtype = tf.float32)\n",
    "print(b)"
   ]
  },
  {
   "cell_type": "code",
   "execution_count": 13,
   "id": "2b3d285d",
   "metadata": {},
   "outputs": [
    {
     "name": "stdout",
     "output_type": "stream",
     "text": [
      "tf.Tensor(27, shape=(), dtype=int32)\n"
     ]
    }
   ],
   "source": [
    "x = tf.Variable(2)\n",
    "y = tf.Variable(5)\n",
    "f = x * x * y + y + 2\n",
    "print(f)"
   ]
  },
  {
   "cell_type": "markdown",
   "id": "5347d0e7",
   "metadata": {},
   "source": [
    "## Common operations"
   ]
  },
  {
   "cell_type": "code",
   "execution_count": 14,
   "id": "3c6c7840",
   "metadata": {},
   "outputs": [
    {
     "data": {
      "text/plain": [
       "<tf.Tensor: shape=(2, 2), dtype=int32, numpy=\n",
       "array([[1, 2],\n",
       "       [3, 4]])>"
      ]
     },
     "execution_count": 14,
     "metadata": {},
     "output_type": "execute_result"
    }
   ],
   "source": [
    "tensor_test = tf.constant([[1,2],\n",
    "                          [3,4]])\n",
    "tensor_test"
   ]
  },
  {
   "cell_type": "code",
   "execution_count": 15,
   "id": "7d48f121",
   "metadata": {},
   "outputs": [
    {
     "data": {
      "text/plain": [
       "TensorShape([2, 2])"
      ]
     },
     "execution_count": 15,
     "metadata": {},
     "output_type": "execute_result"
    }
   ],
   "source": [
    "tensor_test.shape"
   ]
  },
  {
   "cell_type": "code",
   "execution_count": 16,
   "id": "a9de553a",
   "metadata": {},
   "outputs": [
    {
     "data": {
      "text/plain": [
       "array([[1, 2],\n",
       "       [3, 4]])"
      ]
     },
     "execution_count": 16,
     "metadata": {},
     "output_type": "execute_result"
    }
   ],
   "source": [
    "tensor_test.numpy()"
   ]
  },
  {
   "cell_type": "code",
   "execution_count": 17,
   "id": "1109f450",
   "metadata": {},
   "outputs": [
    {
     "data": {
      "text/plain": [
       "<tf.Tensor: shape=(2, 2), dtype=int32, numpy=\n",
       "array([[ 7,  8],\n",
       "       [ 9, 10]])>"
      ]
     },
     "execution_count": 17,
     "metadata": {},
     "output_type": "execute_result"
    }
   ],
   "source": [
    "# broadcasting：trailing dimension are the same or one of them is 1\n",
    "tensor_test = tensor_test + 6\n",
    "tensor_test"
   ]
  },
  {
   "cell_type": "code",
   "execution_count": 18,
   "id": "0bd343c1",
   "metadata": {},
   "outputs": [
    {
     "data": {
      "text/plain": [
       "<tf.Tensor: shape=(2, 2), dtype=int32, numpy=\n",
       "array([[ 1,  4],\n",
       "       [ 9, 16]])>"
      ]
     },
     "execution_count": 18,
     "metadata": {},
     "output_type": "execute_result"
    }
   ],
   "source": [
    "tensor_test = tf.constant([[1,2],\n",
    "                          [3,4]])\n",
    "\n",
    "tensor_test = tf.square(tensor_test)\n",
    "tensor_test"
   ]
  },
  {
   "cell_type": "code",
   "execution_count": 19,
   "id": "4b31a5d7",
   "metadata": {},
   "outputs": [
    {
     "data": {
      "text/plain": [
       "<tf.Tensor: shape=(2, 2), dtype=float32, numpy=\n",
       "array([[1., 2.],\n",
       "       [3., 4.]], dtype=float32)>"
      ]
     },
     "execution_count": 19,
     "metadata": {},
     "output_type": "execute_result"
    }
   ],
   "source": [
    "#sqrt must be on float\n",
    "tensor_test = tf.constant([[1. ,4. ],\n",
    "                          [9. ,16. ]])\n",
    "tensor_test = tf.sqrt(tensor_test)\n",
    "tensor_test"
   ]
  },
  {
   "cell_type": "code",
   "execution_count": 20,
   "id": "3c1dcdd7",
   "metadata": {},
   "outputs": [
    {
     "data": {
      "text/plain": [
       "<tf.Tensor: shape=(2, 2), dtype=float32, numpy=\n",
       "array([[ 7., 10.],\n",
       "       [15., 22.]], dtype=float32)>"
      ]
     },
     "execution_count": 20,
     "metadata": {},
     "output_type": "execute_result"
    }
   ],
   "source": [
    "tensor_test = tf.matmul(tensor_test, tensor_test)\n",
    "tensor_test"
   ]
  },
  {
   "cell_type": "code",
   "execution_count": 21,
   "id": "c14e26d4",
   "metadata": {},
   "outputs": [
    {
     "data": {
      "text/plain": [
       "array([[  1,  16],\n",
       "       [ 81, 256]], dtype=int32)"
      ]
     },
     "execution_count": 21,
     "metadata": {},
     "output_type": "execute_result"
    }
   ],
   "source": [
    "#numpy functions can be applied on tensor. numpy array is returned\n",
    "tensor_test = tf.constant([[1,4],\n",
    "                           [9,16]])\n",
    "np.square(tensor_test)"
   ]
  },
  {
   "cell_type": "markdown",
   "id": "d4648437",
   "metadata": {},
   "source": [
    "## Automatic differentiation"
   ]
  },
  {
   "cell_type": "code",
   "execution_count": 22,
   "id": "e87bc9c2",
   "metadata": {},
   "outputs": [
    {
     "name": "stdout",
     "output_type": "stream",
     "text": [
      "The gradient df/dx where f=(x^2):\n",
      " tf.Tensor([4.], shape=(1,), dtype=float32)\n"
     ]
    }
   ],
   "source": [
    "# GradientTape can only be applied on tf.Variable with dtype float \n",
    "x = tf.Variable([2.])\n",
    "\n",
    "with tf.GradientTape(persistent=False, watch_accessed_variables=True) as tape:\n",
    "    f = x ** 2\n",
    "    \n",
    "print('The gradient df/dx where f=(x^2):\\n', tape.gradient(f, x))"
   ]
  },
  {
   "cell_type": "code",
   "execution_count": 23,
   "id": "5de10212",
   "metadata": {},
   "outputs": [
    {
     "name": "stdout",
     "output_type": "stream",
     "text": [
      "The gradient df/dx where f=(x^2):\n",
      " None\n",
      "WARNING:tensorflow:The dtype of the target tensor must be floating (e.g. tf.float32) when calling GradientTape.gradient, got tf.int32\n",
      "WARNING:tensorflow:The dtype of the source tensor must be floating (e.g. tf.float32) when calling GradientTape.gradient, got tf.int32\n",
      "The gradient df/dx where f=(x^2):\n",
      " None\n"
     ]
    }
   ],
   "source": [
    "#otherwise\n",
    "x = tf.constant([2.0]) #constant\n",
    "\n",
    "with tf.GradientTape(persistent=False, watch_accessed_variables=True) as tape:\n",
    "    f = x ** 2\n",
    "    \n",
    "print('The gradient df/dx where f=(x^2):\\n', tape.gradient(f, x))\n",
    "\n",
    "x = tf.Variable([2]) #non float\n",
    "\n",
    "with tf.GradientTape(persistent=False, watch_accessed_variables=True) as tape:\n",
    "    f = x ** 2\n",
    "    \n",
    "print('The gradient df/dx where f=(x^2):\\n', tape.gradient(f, x))"
   ]
  },
  {
   "cell_type": "code",
   "execution_count": 24,
   "id": "d1fcc8ab",
   "metadata": {},
   "outputs": [
    {
     "name": "stdout",
     "output_type": "stream",
     "text": [
      "The gradient df/dx where f=(x^2):\n",
      " tf.Tensor([4.], shape=(1,), dtype=float32)\n",
      "The gradient dh/dx where h=(x^3):\n",
      " tf.Tensor([27.], shape=(1,), dtype=float32)\n"
     ]
    }
   ],
   "source": [
    "x = tf.Variable([2.0])\n",
    "y = tf.Variable([3.0])\n",
    "\n",
    "with tf.GradientTape(persistent=True, watch_accessed_variables=True) as tape:\n",
    "    f = x ** 2\n",
    "    h = y ** 3\n",
    "\n",
    "# Print gradient output\n",
    "print('The gradient df/dx where f=(x^2):\\n', tape.gradient(f, x))\n",
    "print('The gradient dh/dx where h=(x^3):\\n', tape.gradient(h, y))"
   ]
  },
  {
   "cell_type": "code",
   "execution_count": 25,
   "id": "1459cf43",
   "metadata": {},
   "outputs": [
    {
     "name": "stdout",
     "output_type": "stream",
     "text": [
      "The gradient df/dx where f=(x^2):\n",
      " tf.Tensor([4.], shape=(1,), dtype=float32)\n"
     ]
    },
    {
     "ename": "RuntimeError",
     "evalue": "A non-persistent GradientTape can only be used to compute one set of gradients (or jacobians)",
     "output_type": "error",
     "traceback": [
      "\u001b[1;31m---------------------------------------------------------------------------\u001b[0m",
      "\u001b[1;31mRuntimeError\u001b[0m                              Traceback (most recent call last)",
      "Input \u001b[1;32mIn [25]\u001b[0m, in \u001b[0;36m<cell line: 11>\u001b[1;34m()\u001b[0m\n\u001b[0;32m      9\u001b[0m \u001b[38;5;66;03m# Print gradient output\u001b[39;00m\n\u001b[0;32m     10\u001b[0m \u001b[38;5;28mprint\u001b[39m(\u001b[38;5;124m'\u001b[39m\u001b[38;5;124mThe gradient df/dx where f=(x^2):\u001b[39m\u001b[38;5;130;01m\\n\u001b[39;00m\u001b[38;5;124m'\u001b[39m, tape\u001b[38;5;241m.\u001b[39mgradient(f, x))\n\u001b[1;32m---> 11\u001b[0m \u001b[38;5;28mprint\u001b[39m(\u001b[38;5;124m'\u001b[39m\u001b[38;5;124mThe gradient dh/dx where h=(x^3):\u001b[39m\u001b[38;5;130;01m\\n\u001b[39;00m\u001b[38;5;124m'\u001b[39m, \u001b[43mtape\u001b[49m\u001b[38;5;241;43m.\u001b[39;49m\u001b[43mgradient\u001b[49m\u001b[43m(\u001b[49m\u001b[43mh\u001b[49m\u001b[43m,\u001b[49m\u001b[43m \u001b[49m\u001b[43my\u001b[49m\u001b[43m)\u001b[49m)\n",
      "File \u001b[1;32m~\\anaconda3\\lib\\site-packages\\tensorflow\\python\\eager\\backprop.py:1040\u001b[0m, in \u001b[0;36mGradientTape.gradient\u001b[1;34m(self, target, sources, output_gradients, unconnected_gradients)\u001b[0m\n\u001b[0;32m   1000\u001b[0m \u001b[38;5;124;03m\"\"\"Computes the gradient using operations recorded in context of this tape.\u001b[39;00m\n\u001b[0;32m   1001\u001b[0m \n\u001b[0;32m   1002\u001b[0m \u001b[38;5;124;03mNote: Unless you set `persistent=True` a GradientTape can only be used to\u001b[39;00m\n\u001b[1;32m   (...)\u001b[0m\n\u001b[0;32m   1037\u001b[0m \u001b[38;5;124;03m   called with an unknown value.\u001b[39;00m\n\u001b[0;32m   1038\u001b[0m \u001b[38;5;124;03m\"\"\"\u001b[39;00m\n\u001b[0;32m   1039\u001b[0m \u001b[38;5;28;01mif\u001b[39;00m \u001b[38;5;28mself\u001b[39m\u001b[38;5;241m.\u001b[39m_tape \u001b[38;5;129;01mis\u001b[39;00m \u001b[38;5;28;01mNone\u001b[39;00m:\n\u001b[1;32m-> 1040\u001b[0m   \u001b[38;5;28;01mraise\u001b[39;00m \u001b[38;5;167;01mRuntimeError\u001b[39;00m(\u001b[38;5;124m\"\u001b[39m\u001b[38;5;124mA non-persistent GradientTape can only be used to \u001b[39m\u001b[38;5;124m\"\u001b[39m\n\u001b[0;32m   1041\u001b[0m                      \u001b[38;5;124m\"\u001b[39m\u001b[38;5;124mcompute one set of gradients (or jacobians)\u001b[39m\u001b[38;5;124m\"\u001b[39m)\n\u001b[0;32m   1042\u001b[0m \u001b[38;5;28;01mif\u001b[39;00m \u001b[38;5;28mself\u001b[39m\u001b[38;5;241m.\u001b[39m_recording:\n\u001b[0;32m   1043\u001b[0m   \u001b[38;5;28;01mif\u001b[39;00m \u001b[38;5;129;01mnot\u001b[39;00m \u001b[38;5;28mself\u001b[39m\u001b[38;5;241m.\u001b[39m_persistent:\n",
      "\u001b[1;31mRuntimeError\u001b[0m: A non-persistent GradientTape can only be used to compute one set of gradients (or jacobians)"
     ]
    }
   ],
   "source": [
    "# persistent = False can only be on first function\n",
    "x = tf.Variable([2.0])\n",
    "y = tf.Variable([3.0])\n",
    "\n",
    "with tf.GradientTape(persistent=False, watch_accessed_variables=True) as tape:\n",
    "    f = x ** 2\n",
    "    h = y ** 3\n",
    "\n",
    "# Print gradient output\n",
    "print('The gradient df/dx where f=(x^2):\\n', tape.gradient(f, x))\n",
    "print('The gradient dh/dx where h=(x^3):\\n', tape.gradient(h, y))"
   ]
  },
  {
   "cell_type": "code",
   "execution_count": 30,
   "id": "664fd71a",
   "metadata": {},
   "outputs": [
    {
     "name": "stdout",
     "output_type": "stream",
     "text": [
      "The gradient df/dx where f=(x^2):\n",
      " tf.Tensor([4.], shape=(1,), dtype=float32)\n",
      "The gradient dh/dx where h=(x^3):\n",
      " tf.Tensor([27.], shape=(1,), dtype=float32)\n",
      "The gradient df/dx where f=(x^2):\n",
      " None\n",
      "The gradient dh/dx where h=(x^3):\n",
      " None\n"
     ]
    }
   ],
   "source": [
    "#watch_accessed_variables=False, only check watched variable\n",
    "x = tf.Variable([2.0])\n",
    "y = tf.Variable([3.0])\n",
    "\n",
    "with tf.GradientTape(persistent=True, watch_accessed_variables=False) as tape:\n",
    "    tape.watch([x,y])\n",
    "    f = x ** 2\n",
    "    h = y ** 3\n",
    "\n",
    "# Print gradient output\n",
    "print('The gradient df/dx where f=(x^2):\\n', tape.gradient(f, x))\n",
    "print('The gradient dh/dx where h=(x^3):\\n', tape.gradient(h, y))\n",
    "\n",
    "with tf.GradientTape(persistent=True, watch_accessed_variables=False) as tape:\n",
    "    f = x ** 2\n",
    "    h = y ** 3\n",
    "\n",
    "# Print gradient output\n",
    "print('The gradient df/dx where f=(x^2):\\n', tape.gradient(f, x))\n",
    "print('The gradient dh/dx where h=(x^3):\\n', tape.gradient(h, y))"
   ]
  },
  {
   "cell_type": "code",
   "execution_count": 31,
   "id": "448a0dbe",
   "metadata": {},
   "outputs": [
    {
     "name": "stdout",
     "output_type": "stream",
     "text": [
      "The gradient df/dx and df/dy where f=(x^2*y+y+2):\n",
      " [<tf.Tensor: shape=(1,), dtype=float32, numpy=array([12.], dtype=float32)>, <tf.Tensor: shape=(1,), dtype=float32, numpy=array([5.], dtype=float32)>]\n"
     ]
    }
   ],
   "source": [
    "# gradient on multi-variable function\n",
    "x = tf.Variable([2.0])\n",
    "y = tf.Variable([3.0])\n",
    "\n",
    "with tf.GradientTape(persistent=True, watch_accessed_variables=True) as tape:\n",
    "    f = x ** 2 * y + y + 2\n",
    "\n",
    "# Print gradient output\n",
    "print('The gradient df/dx and df/dy where f=(x^2*y+y+2):\\n', tape.gradient(f, [x,y]))"
   ]
  },
  {
   "cell_type": "code",
   "execution_count": 32,
   "id": "62559f13",
   "metadata": {},
   "outputs": [
    {
     "name": "stdout",
     "output_type": "stream",
     "text": [
      "The gradient df/dy where f=(x^2*y+y+2):\n",
      " tf.Tensor([12.], shape=(1,), dtype=float32)\n",
      "The gradient df/dy where f=(x^2*y+y+2):\n",
      " tf.Tensor([5.], shape=(1,), dtype=float32)\n"
     ]
    }
   ],
   "source": [
    "x = tf.Variable([2.0])\n",
    "y = tf.Variable([3.0])\n",
    "\n",
    "with tf.GradientTape(persistent=True, watch_accessed_variables=True) as tape:\n",
    "    f = x ** 2 * y + y + 2\n",
    "\n",
    "# Print gradient output\n",
    "print('The gradient df/dy where f=(x^2*y+y+2):\\n', tape.gradient(f, x))\n",
    "print('The gradient df/dy where f=(x^2*y+y+2):\\n', tape.gradient(f, y))"
   ]
  },
  {
   "cell_type": "markdown",
   "id": "edb2d1f4",
   "metadata": {},
   "source": [
    "## Linear Regression with Tensorflow"
   ]
  },
  {
   "cell_type": "code",
   "execution_count": 33,
   "id": "3d030164",
   "metadata": {},
   "outputs": [],
   "source": [
    "import matplotlib.pyplot as plt\n",
    "from sklearn.linear_model import LinearRegression\n",
    "from sklearn.metrics import mean_squared_error as mse\n",
    "from sklearn.metrics import r2_score\n",
    "from sklearn.preprocessing import StandardScaler\n",
    "from sklearn.preprocessing import OneHotEncoder\n",
    "from sklearn.model_selection import train_test_split\n",
    "from sklearn.model_selection import train_test_split"
   ]
  },
  {
   "cell_type": "code",
   "execution_count": 34,
   "id": "b717bc1f",
   "metadata": {},
   "outputs": [],
   "source": [
    "def f(X):\n",
    "    \"\"\"\n",
    "    input: x\n",
    "    output: y = 0.7x - 42 goal to fit\n",
    "    \"\"\"\n",
    "    return 0.7*X - 42"
   ]
  },
  {
   "cell_type": "code",
   "execution_count": 35,
   "id": "fba688e1",
   "metadata": {},
   "outputs": [],
   "source": [
    "N = 100\n",
    "noise_level = 0.8\n",
    "trainX = np.linspace(165, 190, N)\n",
    "np.random.shuffle(trainX)\n",
    "trainY = f(trainX) + np.random.randn(N) * noise_level\n",
    "\n",
    "learning_rate = 0.1\n",
    "training_epochs = 300\n",
    "display_step = 50"
   ]
  },
  {
   "cell_type": "code",
   "execution_count": 36,
   "id": "8b6bf51a",
   "metadata": {},
   "outputs": [
    {
     "data": {
      "text/plain": [
       "<matplotlib.legend.Legend at 0x1bbca9d46a0>"
      ]
     },
     "execution_count": 36,
     "metadata": {},
     "output_type": "execute_result"
    },
    {
     "data": {
      "image/png": "[encoded data removed]",
      "text/plain": [
       "<Figure size 432x288 with 1 Axes>"
      ]
     },
     "metadata": {
      "needs_background": "light"
     },
     "output_type": "display_data"
    }
   ],
   "source": [
    "plt.scatter(trainX, trainY, label='Original data')\n",
    "plt.legend()"
   ]
  },
  {
   "cell_type": "code",
   "execution_count": 37,
   "id": "e347bc8d",
   "metadata": {},
   "outputs": [],
   "source": [
    "def lr_forward(x, w, b):\n",
    "    return x * w + b\n",
    "\n",
    "def loss_fuction(y, y_hat):\n",
    "    return tf.reduce_mean(tf.square(y-y_hat))\n",
    "\n",
    "def data_loader(x, y, batch_size, shuffle=True):\n",
    "    ind = list(range(len(x)))\n",
    "    if shuffle == True:\n",
    "        np.random.shuffle(ind)\n",
    "    for i in range(0, len(ind), batch_size):\n",
    "        idx = np.array(ind[i:min(i+batch_size, len(x))])\n",
    "        yield x[idx], y[idx]"
   ]
  },
  {
   "cell_type": "code",
   "execution_count": 38,
   "id": "ec139767",
   "metadata": {},
   "outputs": [],
   "source": [
    "w = tf.Variable(np.random.randn())\n",
    "b = tf.Variable(np.random.randn())\n",
    "batch_size = 32\n",
    "\n",
    "trainX = np.reshape(trainX, (-1,1))\n",
    "trainY = np.reshape(trainY, (-1,1))\n",
    "trainX, testX, trainY, testY = train_test_split(trainX, \n",
    "                                                trainY, \n",
    "                                                test_size=0.2, \n",
    "                                                random_state=1)"
   ]
  },
  {
   "cell_type": "code",
   "execution_count": 39,
   "id": "51011692",
   "metadata": {},
   "outputs": [],
   "source": [
    "#pre processing: normalize\n",
    "# trainX = (trainX - trainX.min()) / (trainX.max() - trainX.min())\n",
    "# trainY = (trainY - trainY.min()) / (trainY.max() - trainY.min())\n",
    "\n",
    "x_scaler = StandardScaler()\n",
    "y_scaler = StandardScaler()\n",
    "\n",
    "trainX = x_scaler.fit_transform(trainX)\n",
    "trainY = y_scaler.fit_transform(trainY)"
   ]
  },
  {
   "cell_type": "code",
   "execution_count": 40,
   "id": "d445c58f",
   "metadata": {},
   "outputs": [
    {
     "data": {
      "text/plain": [
       "<matplotlib.legend.Legend at 0x1bbcceedac0>"
      ]
     },
     "execution_count": 40,
     "metadata": {},
     "output_type": "execute_result"
    },
    {
     "data": {
      "image/png": "[encoded data removed]",
      "text/plain": [
       "<Figure size 432x288 with 1 Axes>"
      ]
     },
     "metadata": {
      "needs_background": "light"
     },
     "output_type": "display_data"
    }
   ],
   "source": [
    "plt.scatter(trainX, trainY, label='Original Data')\n",
    "plt.plot(trainX, lr_forward(trainX, w,b), c='y',label='Fitted Line')\n",
    "plt.legend()"
   ]
  },
  {
   "cell_type": "code",
   "execution_count": 41,
   "id": "dcc2b5ad",
   "metadata": {},
   "outputs": [
    {
     "name": "stdout",
     "output_type": "stream",
     "text": [
      "epoch 1, loss 0.895207\n",
      "epoch 2, loss 0.264716\n",
      "epoch 3, loss 0.090641\n",
      "epoch 4, loss 0.041656\n",
      "epoch 5, loss 0.029466\n",
      "epoch 6, loss 0.027168\n",
      "epoch 7, loss 0.025521\n",
      "epoch 8, loss 0.025162\n",
      "epoch 9, loss 0.025067\n",
      "epoch 10, loss 0.025155\n",
      "epoch 11, loss 0.025109\n",
      "epoch 12, loss 0.025063\n",
      "epoch 13, loss 0.025091\n",
      "epoch 14, loss 0.025135\n",
      "epoch 15, loss 0.025054\n",
      "epoch 16, loss 0.025063\n",
      "epoch 17, loss 0.025084\n",
      "epoch 18, loss 0.025152\n",
      "epoch 19, loss 0.025087\n",
      "epoch 20, loss 0.025192\n",
      "epoch 21, loss 0.025120\n",
      "epoch 22, loss 0.025049\n",
      "epoch 23, loss 0.025134\n",
      "epoch 24, loss 0.025079\n",
      "epoch 25, loss 0.025054\n",
      "epoch 26, loss 0.025070\n",
      "epoch 27, loss 0.025066\n",
      "epoch 28, loss 0.025121\n",
      "epoch 29, loss 0.025077\n",
      "epoch 30, loss 0.025067\n",
      "epoch 31, loss 0.025064\n",
      "epoch 32, loss 0.025156\n",
      "epoch 33, loss 0.025054\n",
      "epoch 34, loss 0.025113\n",
      "epoch 35, loss 0.025165\n",
      "epoch 36, loss 0.025338\n",
      "epoch 37, loss 0.025147\n",
      "epoch 38, loss 0.025169\n",
      "epoch 39, loss 0.025108\n",
      "epoch 40, loss 0.025050\n",
      "epoch 41, loss 0.025087\n",
      "epoch 42, loss 0.025053\n",
      "epoch 43, loss 0.025058\n",
      "epoch 44, loss 0.025084\n",
      "epoch 45, loss 0.025075\n",
      "epoch 46, loss 0.025066\n",
      "epoch 47, loss 0.025107\n",
      "epoch 48, loss 0.025174\n",
      "epoch 49, loss 0.025055\n",
      "epoch 50, loss 0.025110\n",
      "epoch 51, loss 0.025084\n",
      "epoch 52, loss 0.025128\n",
      "epoch 53, loss 0.025129\n",
      "epoch 54, loss 0.025221\n",
      "epoch 55, loss 0.025061\n",
      "epoch 56, loss 0.025062\n",
      "epoch 57, loss 0.025068\n",
      "epoch 58, loss 0.025118\n",
      "epoch 59, loss 0.025187\n",
      "epoch 60, loss 0.025129\n",
      "epoch 61, loss 0.025105\n",
      "epoch 62, loss 0.025086\n",
      "epoch 63, loss 0.025062\n",
      "epoch 64, loss 0.025068\n",
      "epoch 65, loss 0.025048\n",
      "epoch 66, loss 0.025116\n",
      "epoch 67, loss 0.025251\n",
      "epoch 68, loss 0.025069\n",
      "epoch 69, loss 0.025341\n",
      "epoch 70, loss 0.025060\n",
      "epoch 71, loss 0.025065\n",
      "epoch 72, loss 0.025069\n",
      "epoch 73, loss 0.025075\n",
      "epoch 74, loss 0.025128\n",
      "epoch 75, loss 0.025053\n",
      "epoch 76, loss 0.025094\n",
      "epoch 77, loss 0.025052\n",
      "epoch 78, loss 0.025052\n",
      "epoch 79, loss 0.025138\n",
      "epoch 80, loss 0.025058\n",
      "epoch 81, loss 0.025054\n",
      "epoch 82, loss 0.025063\n",
      "epoch 83, loss 0.025104\n",
      "epoch 84, loss 0.025062\n",
      "epoch 85, loss 0.025051\n",
      "epoch 86, loss 0.025095\n",
      "epoch 87, loss 0.025073\n",
      "epoch 88, loss 0.025058\n",
      "epoch 89, loss 0.025157\n",
      "epoch 90, loss 0.025067\n",
      "epoch 91, loss 0.025151\n",
      "epoch 92, loss 0.025134\n",
      "epoch 93, loss 0.025122\n",
      "epoch 94, loss 0.025053\n",
      "epoch 95, loss 0.025105\n",
      "epoch 96, loss 0.025073\n",
      "epoch 97, loss 0.025105\n",
      "epoch 98, loss 0.025085\n",
      "epoch 99, loss 0.025096\n",
      "epoch 100, loss 0.025146\n",
      "epoch 101, loss 0.025213\n",
      "epoch 102, loss 0.025197\n",
      "epoch 103, loss 0.025057\n",
      "epoch 104, loss 0.025106\n",
      "epoch 105, loss 0.025086\n",
      "epoch 106, loss 0.025052\n",
      "epoch 107, loss 0.025208\n",
      "epoch 108, loss 0.025148\n",
      "epoch 109, loss 0.025070\n",
      "epoch 110, loss 0.025224\n",
      "epoch 111, loss 0.025051\n",
      "epoch 112, loss 0.025157\n",
      "epoch 113, loss 0.025190\n",
      "epoch 114, loss 0.025066\n",
      "epoch 115, loss 0.025074\n",
      "epoch 116, loss 0.025146\n",
      "epoch 117, loss 0.025282\n",
      "epoch 118, loss 0.025056\n",
      "epoch 119, loss 0.025138\n",
      "epoch 120, loss 0.025110\n",
      "epoch 121, loss 0.025094\n",
      "epoch 122, loss 0.025079\n",
      "epoch 123, loss 0.025126\n",
      "epoch 124, loss 0.025048\n",
      "epoch 125, loss 0.025083\n",
      "epoch 126, loss 0.025214\n",
      "epoch 127, loss 0.025098\n",
      "epoch 128, loss 0.025255\n",
      "epoch 129, loss 0.025274\n",
      "epoch 130, loss 0.025053\n",
      "epoch 131, loss 0.025059\n",
      "epoch 132, loss 0.025049\n",
      "epoch 133, loss 0.025050\n",
      "epoch 134, loss 0.025062\n",
      "epoch 135, loss 0.025088\n",
      "epoch 136, loss 0.025086\n",
      "epoch 137, loss 0.025282\n",
      "epoch 138, loss 0.025162\n",
      "epoch 139, loss 0.025050\n",
      "epoch 140, loss 0.025052\n",
      "epoch 141, loss 0.025075\n",
      "epoch 142, loss 0.025081\n",
      "epoch 143, loss 0.025114\n",
      "epoch 144, loss 0.025057\n",
      "epoch 145, loss 0.025063\n",
      "epoch 146, loss 0.025048\n",
      "epoch 147, loss 0.025052\n",
      "epoch 148, loss 0.025099\n",
      "epoch 149, loss 0.025226\n",
      "epoch 150, loss 0.025093\n",
      "epoch 151, loss 0.025056\n",
      "epoch 152, loss 0.025065\n",
      "epoch 153, loss 0.025220\n",
      "epoch 154, loss 0.025068\n",
      "epoch 155, loss 0.025050\n",
      "epoch 156, loss 0.025065\n",
      "epoch 157, loss 0.025094\n",
      "epoch 158, loss 0.025178\n",
      "epoch 159, loss 0.025157\n",
      "epoch 160, loss 0.025069\n",
      "epoch 161, loss 0.025132\n",
      "epoch 162, loss 0.025059\n",
      "epoch 163, loss 0.025111\n",
      "epoch 164, loss 0.025094\n",
      "epoch 165, loss 0.025148\n",
      "epoch 166, loss 0.025157\n",
      "epoch 167, loss 0.025053\n",
      "epoch 168, loss 0.025066\n",
      "epoch 169, loss 0.025143\n",
      "epoch 170, loss 0.025353\n",
      "epoch 171, loss 0.025147\n",
      "epoch 172, loss 0.025078\n",
      "epoch 173, loss 0.025108\n",
      "epoch 174, loss 0.025068\n",
      "epoch 175, loss 0.025071\n",
      "epoch 176, loss 0.025102\n",
      "epoch 177, loss 0.025080\n",
      "epoch 178, loss 0.025120\n",
      "epoch 179, loss 0.025068\n",
      "epoch 180, loss 0.025053\n",
      "epoch 181, loss 0.025061\n",
      "epoch 182, loss 0.025173\n",
      "epoch 183, loss 0.025118\n",
      "epoch 184, loss 0.025100\n",
      "epoch 185, loss 0.025077\n",
      "epoch 186, loss 0.025066\n",
      "epoch 187, loss 0.025077\n",
      "epoch 188, loss 0.025065\n",
      "epoch 189, loss 0.025120\n",
      "epoch 190, loss 0.025076\n",
      "epoch 191, loss 0.025120\n",
      "epoch 192, loss 0.025170\n",
      "epoch 193, loss 0.025095\n",
      "epoch 194, loss 0.025067\n",
      "epoch 195, loss 0.025076\n",
      "epoch 196, loss 0.025141\n",
      "epoch 197, loss 0.025062\n",
      "epoch 198, loss 0.025066\n",
      "epoch 199, loss 0.025093\n",
      "epoch 200, loss 0.025076\n",
      "epoch 201, loss 0.025068\n",
      "epoch 202, loss 0.025116\n",
      "epoch 203, loss 0.025057\n",
      "epoch 204, loss 0.025198\n",
      "epoch 205, loss 0.025063\n",
      "epoch 206, loss 0.025096\n",
      "epoch 207, loss 0.025111\n",
      "epoch 208, loss 0.025090\n",
      "epoch 209, loss 0.025110\n",
      "epoch 210, loss 0.025187\n",
      "epoch 211, loss 0.025130\n",
      "epoch 212, loss 0.025165\n",
      "epoch 213, loss 0.025083\n",
      "epoch 214, loss 0.025115\n",
      "epoch 215, loss 0.025111\n",
      "epoch 216, loss 0.025090\n",
      "epoch 217, loss 0.025222\n",
      "epoch 218, loss 0.025251\n",
      "epoch 219, loss 0.025110\n",
      "epoch 220, loss 0.025231\n",
      "epoch 221, loss 0.025074\n",
      "epoch 222, loss 0.025061\n",
      "epoch 223, loss 0.025059\n",
      "epoch 224, loss 0.025123\n",
      "epoch 225, loss 0.025195\n",
      "epoch 226, loss 0.025387\n",
      "epoch 227, loss 0.025264\n",
      "epoch 228, loss 0.025060\n",
      "epoch 229, loss 0.025066\n",
      "epoch 230, loss 0.025060\n",
      "epoch 231, loss 0.025069\n",
      "epoch 232, loss 0.025056\n",
      "epoch 233, loss 0.025095\n",
      "epoch 234, loss 0.025209\n",
      "epoch 235, loss 0.025156\n",
      "epoch 236, loss 0.025062\n",
      "epoch 237, loss 0.025056\n",
      "epoch 238, loss 0.025053\n",
      "epoch 239, loss 0.025194\n",
      "epoch 240, loss 0.025057\n",
      "epoch 241, loss 0.025070\n",
      "epoch 242, loss 0.025067\n",
      "epoch 243, loss 0.025069\n",
      "epoch 244, loss 0.025100\n",
      "epoch 245, loss 0.025061\n",
      "epoch 246, loss 0.025126\n",
      "epoch 247, loss 0.025050\n",
      "epoch 248, loss 0.025102\n",
      "epoch 249, loss 0.025120\n",
      "epoch 250, loss 0.025199\n",
      "epoch 251, loss 0.025082\n",
      "epoch 252, loss 0.025108\n",
      "epoch 253, loss 0.025160\n",
      "epoch 254, loss 0.025357\n",
      "epoch 255, loss 0.025358\n",
      "epoch 256, loss 0.025279\n",
      "epoch 257, loss 0.025065\n",
      "epoch 258, loss 0.025220\n",
      "epoch 259, loss 0.025126\n",
      "epoch 260, loss 0.025069\n",
      "epoch 261, loss 0.025056\n",
      "epoch 262, loss 0.025150\n",
      "epoch 263, loss 0.025150\n",
      "epoch 264, loss 0.025079\n",
      "epoch 265, loss 0.025087\n",
      "epoch 266, loss 0.025112\n",
      "epoch 267, loss 0.025102\n",
      "epoch 268, loss 0.025084\n",
      "epoch 269, loss 0.025154\n",
      "epoch 270, loss 0.025071\n",
      "epoch 271, loss 0.025052\n",
      "epoch 272, loss 0.025075\n",
      "epoch 273, loss 0.025067\n",
      "epoch 274, loss 0.025052\n",
      "epoch 275, loss 0.025059\n",
      "epoch 276, loss 0.025110\n",
      "epoch 277, loss 0.025093\n",
      "epoch 278, loss 0.025064\n",
      "epoch 279, loss 0.025095\n",
      "epoch 280, loss 0.025080\n",
      "epoch 281, loss 0.025164\n",
      "epoch 282, loss 0.025053\n",
      "epoch 283, loss 0.025065\n",
      "epoch 284, loss 0.025058\n",
      "epoch 285, loss 0.025089\n",
      "epoch 286, loss 0.025080\n",
      "epoch 287, loss 0.025096\n",
      "epoch 288, loss 0.025061\n",
      "epoch 289, loss 0.025060\n",
      "epoch 290, loss 0.025220\n",
      "epoch 291, loss 0.025052\n",
      "epoch 292, loss 0.025108\n",
      "epoch 293, loss 0.025071\n",
      "epoch 294, loss 0.025151\n",
      "epoch 295, loss 0.025160\n",
      "epoch 296, loss 0.025109\n",
      "epoch 297, loss 0.025092\n",
      "epoch 298, loss 0.025119\n",
      "epoch 299, loss 0.025096\n",
      "epoch 300, loss 0.025118\n"
     ]
    }
   ],
   "source": [
    "for i in range(training_epochs):\n",
    "    for X, y in data_loader(trainX, trainY, batch_size):\n",
    "        with tf.GradientTape(persistent=True, watch_accessed_variables=True) as tape:\n",
    "            #get loss for current batch\n",
    "            loss = loss_fuction(y, lr_forward(X, w, b))\n",
    "            \n",
    "        #get gradient, update parameter\n",
    "        delta_w, delta_b = tape.gradient(loss, [w, b])\n",
    "        w.assign_sub(learning_rate * delta_w)\n",
    "        b.assign_sub(learning_rate * delta_b)\n",
    "    \n",
    "    #get total loss\n",
    "    train_loss = loss_fuction(trainY, lr_forward(trainX, w, b))\n",
    "    print('epoch %d, loss %f' % (i+1, tf.reduce_mean(train_loss)))"
   ]
  },
  {
   "cell_type": "code",
   "execution_count": 42,
   "id": "14666557",
   "metadata": {},
   "outputs": [],
   "source": [
    "processed_x = x_scaler.transform(np.reshape(testX, (-1, 1)))\n",
    "predicted_y = y_scaler.inverse_transform(lr_forward(processed_x, w,b))"
   ]
  },
  {
   "cell_type": "code",
   "execution_count": 43,
   "id": "5f42aeab",
   "metadata": {},
   "outputs": [
    {
     "data": {
      "text/plain": [
       "0.9756947331358382"
      ]
     },
     "execution_count": 43,
     "metadata": {},
     "output_type": "execute_result"
    }
   ],
   "source": [
    "r2_score(testY, predicted_y)"
   ]
  },
  {
   "cell_type": "code",
   "execution_count": 44,
   "id": "e58bd82c",
   "metadata": {},
   "outputs": [
    {
     "data": {
      "text/plain": [
       "<matplotlib.legend.Legend at 0x1bbcdf37f70>"
      ]
     },
     "execution_count": 44,
     "metadata": {},
     "output_type": "execute_result"
    },
    {
     "data": {
      "image/png": "[encoded data removed]",
      "text/plain": [
       "<Figure size 432x288 with 1 Axes>"
      ]
     },
     "metadata": {
      "needs_background": "light"
     },
     "output_type": "display_data"
    }
   ],
   "source": [
    "plt.scatter(trainX, trainY, label='Original Data')\n",
    "plt.plot(trainX, lr_forward(trainX, w,b), c='y',label='Fitted Line')\n",
    "plt.legend()"
   ]
  },
  {
   "cell_type": "code",
   "execution_count": 45,
   "id": "2113eafb",
   "metadata": {},
   "outputs": [
    {
     "name": "stdout",
     "output_type": "stream",
     "text": [
      "<tf.Variable 'Variable:0' shape=() dtype=float32, numpy=0.9909252>\n",
      "<tf.Variable 'Variable:0' shape=() dtype=float32, numpy=-0.007621241>\n"
     ]
    }
   ],
   "source": [
    "print(w)\n",
    "print(b)"
   ]
  },
  {
   "cell_type": "code",
   "execution_count": 46,
   "id": "d79106c3",
   "metadata": {},
   "outputs": [
    {
     "name": "stdout",
     "output_type": "stream",
     "text": [
      "tf.Tensor([0.7004467], shape=(1,), dtype=float32)\n",
      "tf.Tensor([-42.185417], shape=(1,), dtype=float32)\n"
     ]
    }
   ],
   "source": [
    "print(w * y_scaler.scale_ / x_scaler.scale_)\n",
    "print(- w * y_scaler.scale_ / x_scaler.scale_ * x_scaler.mean_ + y_scaler.scale_ * b + y_scaler.mean_)"
   ]
  },
  {
   "cell_type": "markdown",
   "id": "76af5c0e",
   "metadata": {},
   "source": [
    "## Keras API"
   ]
  },
  {
   "cell_type": "code",
   "execution_count": 47,
   "id": "394d5a32",
   "metadata": {},
   "outputs": [
    {
     "name": "stdout",
     "output_type": "stream",
     "text": [
      "Model: \"sequential\"\n",
      "_________________________________________________________________\n",
      " Layer (type)                Output Shape              Param #   \n",
      "=================================================================\n",
      " dense (Dense)               (None, 1)                 2         \n",
      "                                                                 \n",
      "=================================================================\n",
      "Total params: 2\n",
      "Trainable params: 2\n",
      "Non-trainable params: 0\n",
      "_________________________________________________________________\n"
     ]
    }
   ],
   "source": [
    "model = tf.keras.Sequential()\n",
    "model.add(tf.keras.layers.Dense(1, input_dim=1))\n",
    "model.summary()"
   ]
  },
  {
   "cell_type": "code",
   "execution_count": 48,
   "id": "3a5e7a72",
   "metadata": {},
   "outputs": [
    {
     "name": "stdout",
     "output_type": "stream",
     "text": [
      "Epoch 1/300\n",
      "8/8 [==============================] - 2s 1ms/step - loss: 0.0351 - mse: 0.0351\n",
      "Epoch 2/300\n",
      "8/8 [==============================] - 0s 959us/step - loss: 0.0323 - mse: 0.0323\n",
      "Epoch 3/300\n",
      "8/8 [==============================] - 0s 1ms/step - loss: 0.0304 - mse: 0.0304\n",
      "Epoch 4/300\n",
      "8/8 [==============================] - 0s 995us/step - loss: 0.0289 - mse: 0.0289\n",
      "Epoch 5/300\n",
      "8/8 [==============================] - 0s 996us/step - loss: 0.0279 - mse: 0.0279\n",
      "Epoch 6/300\n",
      "8/8 [==============================] - 0s 993us/step - loss: 0.0271 - mse: 0.0271\n",
      "Epoch 7/300\n",
      "8/8 [==============================] - 0s 934us/step - loss: 0.0265 - mse: 0.0265\n",
      "Epoch 8/300\n",
      "8/8 [==============================] - 0s 1ms/step - loss: 0.0262 - mse: 0.0262\n",
      "Epoch 9/300\n",
      "8/8 [==============================] - 0s 855us/step - loss: 0.0259 - mse: 0.0259\n",
      "Epoch 10/300\n",
      "8/8 [==============================] - 0s 1ms/step - loss: 0.0257 - mse: 0.0257\n",
      "Epoch 11/300\n",
      "8/8 [==============================] - 0s 712us/step - loss: 0.0256 - mse: 0.0256\n",
      "Epoch 12/300\n",
      "8/8 [==============================] - 0s 1ms/step - loss: 0.0254 - mse: 0.0254\n",
      "Epoch 13/300\n",
      "8/8 [==============================] - 0s 998us/step - loss: 0.0253 - mse: 0.0253\n",
      "Epoch 14/300\n",
      "8/8 [==============================] - 0s 794us/step - loss: 0.0253 - mse: 0.0253\n",
      "Epoch 15/300\n",
      "8/8 [==============================] - 0s 855us/step - loss: 0.0252 - mse: 0.0252\n",
      "Epoch 16/300\n",
      "8/8 [==============================] - 0s 860us/step - loss: 0.0252 - mse: 0.0252\n",
      "Epoch 17/300\n",
      "8/8 [==============================] - 0s 1ms/step - loss: 0.0251 - mse: 0.0251\n",
      "Epoch 18/300\n",
      "8/8 [==============================] - 0s 882us/step - loss: 0.0251 - mse: 0.0251\n",
      "Epoch 19/300\n",
      "8/8 [==============================] - 0s 1ms/step - loss: 0.0251 - mse: 0.0251\n",
      "Epoch 20/300\n",
      "8/8 [==============================] - 0s 856us/step - loss: 0.0252 - mse: 0.0252\n",
      "Epoch 21/300\n",
      "8/8 [==============================] - 0s 1ms/step - loss: 0.0252 - mse: 0.0252\n",
      "Epoch 22/300\n",
      "8/8 [==============================] - 0s 998us/step - loss: 0.0251 - mse: 0.0251\n",
      "Epoch 23/300\n",
      "8/8 [==============================] - 0s 764us/step - loss: 0.0252 - mse: 0.0252\n",
      "Epoch 24/300\n",
      "8/8 [==============================] - 0s 1ms/step - loss: 0.0251 - mse: 0.0251\n",
      "Epoch 25/300\n",
      "8/8 [==============================] - 0s 711us/step - loss: 0.0251 - mse: 0.0251\n",
      "Epoch 26/300\n",
      "8/8 [==============================] - 0s 1ms/step - loss: 0.0251 - mse: 0.0251\n",
      "Epoch 27/300\n",
      "8/8 [==============================] - 0s 875us/step - loss: 0.0252 - mse: 0.0252\n",
      "Epoch 28/300\n",
      "8/8 [==============================] - 0s 855us/step - loss: 0.0252 - mse: 0.0252\n",
      "Epoch 29/300\n",
      "8/8 [==============================] - 0s 1ms/step - loss: 0.0252 - mse: 0.0252\n",
      "Epoch 30/300\n",
      "8/8 [==============================] - 0s 999us/step - loss: 0.0252 - mse: 0.0252\n",
      "Epoch 31/300\n",
      "8/8 [==============================] - 0s 997us/step - loss: 0.0251 - mse: 0.0251\n",
      "Epoch 32/300\n",
      "8/8 [==============================] - 0s 851us/step - loss: 0.0251 - mse: 0.0251\n",
      "Epoch 33/300\n",
      "8/8 [==============================] - 0s 855us/step - loss: 0.0251 - mse: 0.0251\n",
      "Epoch 34/300\n",
      "8/8 [==============================] - 0s 1ms/step - loss: 0.0252 - mse: 0.0252\n",
      "Epoch 35/300\n",
      "8/8 [==============================] - 0s 1ms/step - loss: 0.0252 - mse: 0.0252\n",
      "Epoch 36/300\n",
      "8/8 [==============================] - 0s 997us/step - loss: 0.0251 - mse: 0.0251\n",
      "Epoch 37/300\n",
      "8/8 [==============================] - 0s 859us/step - loss: 0.0252 - mse: 0.0252\n",
      "Epoch 38/300\n",
      "8/8 [==============================] - 0s 1ms/step - loss: 0.0252 - mse: 0.0252\n",
      "Epoch 39/300\n",
      "8/8 [==============================] - 0s 999us/step - loss: 0.0252 - mse: 0.0252\n",
      "Epoch 40/300\n",
      "8/8 [==============================] - 0s 860us/step - loss: 0.0251 - mse: 0.0251\n",
      "Epoch 41/300\n",
      "8/8 [==============================] - 0s 997us/step - loss: 0.0251 - mse: 0.0251\n",
      "Epoch 42/300\n",
      "8/8 [==============================] - 0s 860us/step - loss: 0.0251 - mse: 0.0251\n",
      "Epoch 43/300\n",
      "8/8 [==============================] - 0s 1ms/step - loss: 0.0252 - mse: 0.0252\n",
      "Epoch 44/300\n",
      "8/8 [==============================] - 0s 904us/step - loss: 0.0251 - mse: 0.0251\n",
      "Epoch 45/300\n",
      "8/8 [==============================] - 0s 713us/step - loss: 0.0251 - mse: 0.0251\n",
      "Epoch 46/300\n",
      "8/8 [==============================] - 0s 1ms/step - loss: 0.0251 - mse: 0.0251\n",
      "Epoch 47/300\n",
      "8/8 [==============================] - 0s 1ms/step - loss: 0.0252 - mse: 0.0252\n",
      "Epoch 48/300\n",
      "8/8 [==============================] - 0s 855us/step - loss: 0.0252 - mse: 0.0252\n",
      "Epoch 49/300\n",
      "8/8 [==============================] - 0s 856us/step - loss: 0.0252 - mse: 0.0252\n",
      "Epoch 50/300\n",
      "8/8 [==============================] - 0s 997us/step - loss: 0.0252 - mse: 0.0252\n",
      "Epoch 51/300\n",
      "8/8 [==============================] - 0s 856us/step - loss: 0.0251 - mse: 0.0251\n",
      "Epoch 52/300\n",
      "8/8 [==============================] - 0s 997us/step - loss: 0.0251 - mse: 0.0251\n",
      "Epoch 53/300\n",
      "8/8 [==============================] - 0s 998us/step - loss: 0.0251 - mse: 0.0251\n",
      "Epoch 54/300\n",
      "8/8 [==============================] - 0s 1ms/step - loss: 0.0251 - mse: 0.0251\n",
      "Epoch 55/300\n",
      "8/8 [==============================] - 0s 1ms/step - loss: 0.0251 - mse: 0.0251\n",
      "Epoch 56/300\n",
      "8/8 [==============================] - 0s 699us/step - loss: 0.0251 - mse: 0.0251\n",
      "Epoch 57/300\n",
      "8/8 [==============================] - 0s 1ms/step - loss: 0.0252 - mse: 0.0252\n",
      "Epoch 58/300\n",
      "8/8 [==============================] - 0s 713us/step - loss: 0.0252 - mse: 0.0252\n",
      "Epoch 59/300\n",
      "8/8 [==============================] - 0s 1ms/step - loss: 0.0251 - mse: 0.0251\n",
      "Epoch 60/300\n",
      "8/8 [==============================] - 0s 883us/step - loss: 0.0251 - mse: 0.0251\n",
      "Epoch 61/300\n",
      "8/8 [==============================] - 0s 712us/step - loss: 0.0251 - mse: 0.0251\n",
      "Epoch 62/300\n",
      "8/8 [==============================] - 0s 855us/step - loss: 0.0251 - mse: 0.0251\n",
      "Epoch 63/300\n",
      "8/8 [==============================] - 0s 716us/step - loss: 0.0252 - mse: 0.0252\n",
      "Epoch 64/300\n",
      "8/8 [==============================] - 0s 714us/step - loss: 0.0251 - mse: 0.0251\n",
      "Epoch 65/300\n",
      "8/8 [==============================] - 0s 861us/step - loss: 0.0251 - mse: 0.0251\n",
      "Epoch 66/300\n",
      "8/8 [==============================] - 0s 855us/step - loss: 0.0252 - mse: 0.0252\n",
      "Epoch 67/300\n",
      "8/8 [==============================] - 0s 854us/step - loss: 0.0251 - mse: 0.0251\n",
      "Epoch 68/300\n",
      "8/8 [==============================] - 0s 851us/step - loss: 0.0251 - mse: 0.0251\n",
      "Epoch 69/300\n",
      "8/8 [==============================] - 0s 706us/step - loss: 0.0251 - mse: 0.0251\n",
      "Epoch 70/300\n",
      "8/8 [==============================] - 0s 1ms/step - loss: 0.0251 - mse: 0.0251\n",
      "Epoch 71/300\n",
      "8/8 [==============================] - 0s 858us/step - loss: 0.0252 - mse: 0.0252\n",
      "Epoch 72/300\n",
      "8/8 [==============================] - 0s 997us/step - loss: 0.0252 - mse: 0.0252\n",
      "Epoch 73/300\n",
      "8/8 [==============================] - 0s 858us/step - loss: 0.0252 - mse: 0.0252\n",
      "Epoch 74/300\n",
      "8/8 [==============================] - 0s 962us/step - loss: 0.0252 - mse: 0.0252\n",
      "Epoch 75/300\n",
      "8/8 [==============================] - 0s 851us/step - loss: 0.0251 - mse: 0.0251\n",
      "Epoch 76/300\n",
      "8/8 [==============================] - 0s 870us/step - loss: 0.0251 - mse: 0.0251\n",
      "Epoch 77/300\n",
      "8/8 [==============================] - 0s 860us/step - loss: 0.0251 - mse: 0.0251\n",
      "Epoch 78/300\n",
      "8/8 [==============================] - 0s 883us/step - loss: 0.0252 - mse: 0.0252\n",
      "Epoch 79/300\n",
      "8/8 [==============================] - 0s 774us/step - loss: 0.0251 - mse: 0.0251\n",
      "Epoch 80/300\n",
      "8/8 [==============================] - 0s 855us/step - loss: 0.0251 - mse: 0.0251\n",
      "Epoch 81/300\n",
      "8/8 [==============================] - 0s 855us/step - loss: 0.0251 - mse: 0.0251\n",
      "Epoch 82/300\n",
      "8/8 [==============================] - 0s 906us/step - loss: 0.0251 - mse: 0.0251\n",
      "Epoch 83/300\n",
      "8/8 [==============================] - 0s 997us/step - loss: 0.0251 - mse: 0.0251\n",
      "Epoch 84/300\n",
      "8/8 [==============================] - 0s 987us/step - loss: 0.0251 - mse: 0.0251\n",
      "Epoch 85/300\n",
      "8/8 [==============================] - 0s 1ms/step - loss: 0.0252 - mse: 0.0252\n",
      "Epoch 86/300\n",
      "8/8 [==============================] - 0s 779us/step - loss: 0.0251 - mse: 0.0251\n",
      "Epoch 87/300\n"
     ]
    },
    {
     "name": "stdout",
     "output_type": "stream",
     "text": [
      "8/8 [==============================] - 0s 1ms/step - loss: 0.0251 - mse: 0.0251\n",
      "Epoch 88/300\n",
      "8/8 [==============================] - 0s 717us/step - loss: 0.0251 - mse: 0.0251\n",
      "Epoch 89/300\n",
      "8/8 [==============================] - 0s 987us/step - loss: 0.0252 - mse: 0.0252\n",
      "Epoch 90/300\n",
      "8/8 [==============================] - 0s 822us/step - loss: 0.0252 - mse: 0.0252\n",
      "Epoch 91/300\n",
      "8/8 [==============================] - 0s 855us/step - loss: 0.0251 - mse: 0.0251\n",
      "Epoch 92/300\n",
      "8/8 [==============================] - 0s 742us/step - loss: 0.0251 - mse: 0.0251\n",
      "Epoch 93/300\n",
      "8/8 [==============================] - 0s 990us/step - loss: 0.0251 - mse: 0.0251\n",
      "Epoch 94/300\n",
      "8/8 [==============================] - 0s 855us/step - loss: 0.0252 - mse: 0.0252\n",
      "Epoch 95/300\n",
      "8/8 [==============================] - 0s 855us/step - loss: 0.0251 - mse: 0.0251\n",
      "Epoch 96/300\n",
      "8/8 [==============================] - 0s 715us/step - loss: 0.0251 - mse: 0.0251\n",
      "Epoch 97/300\n",
      "8/8 [==============================] - 0s 853us/step - loss: 0.0251 - mse: 0.0251\n",
      "Epoch 98/300\n",
      "8/8 [==============================] - 0s 889us/step - loss: 0.0252 - mse: 0.0252\n",
      "Epoch 99/300\n",
      "8/8 [==============================] - 0s 997us/step - loss: 0.0251 - mse: 0.0251\n",
      "Epoch 100/300\n",
      "8/8 [==============================] - 0s 840us/step - loss: 0.0252 - mse: 0.0252\n",
      "Epoch 101/300\n",
      "8/8 [==============================] - 0s 1ms/step - loss: 0.0251 - mse: 0.0251\n",
      "Epoch 102/300\n",
      "8/8 [==============================] - 0s 677us/step - loss: 0.0251 - mse: 0.0251\n",
      "Epoch 103/300\n",
      "8/8 [==============================] - 0s 1ms/step - loss: 0.0251 - mse: 0.0251\n",
      "Epoch 104/300\n",
      "8/8 [==============================] - 0s 711us/step - loss: 0.0252 - mse: 0.0252\n",
      "Epoch 105/300\n",
      "8/8 [==============================] - 0s 860us/step - loss: 0.0251 - mse: 0.0251\n",
      "Epoch 106/300\n",
      "8/8 [==============================] - 0s 716us/step - loss: 0.0252 - mse: 0.0252\n",
      "Epoch 107/300\n",
      "8/8 [==============================] - 0s 855us/step - loss: 0.0252 - mse: 0.0252\n",
      "Epoch 108/300\n",
      "8/8 [==============================] - 0s 765us/step - loss: 0.0252 - mse: 0.0252\n",
      "Epoch 109/300\n",
      "8/8 [==============================] - 0s 1ms/step - loss: 0.0251 - mse: 0.0251\n",
      "Epoch 110/300\n",
      "8/8 [==============================] - 0s 954us/step - loss: 0.0251 - mse: 0.0251\n",
      "Epoch 111/300\n",
      "8/8 [==============================] - 0s 966us/step - loss: 0.0251 - mse: 0.0251\n",
      "Epoch 112/300\n",
      "8/8 [==============================] - 0s 1ms/step - loss: 0.0251 - mse: 0.0251\n",
      "Epoch 113/300\n",
      "8/8 [==============================] - 0s 879us/step - loss: 0.0252 - mse: 0.0252\n",
      "Epoch 114/300\n",
      "8/8 [==============================] - 0s 997us/step - loss: 0.0252 - mse: 0.0252\n",
      "Epoch 115/300\n",
      "8/8 [==============================] - 0s 712us/step - loss: 0.0251 - mse: 0.0251\n",
      "Epoch 116/300\n",
      "8/8 [==============================] - 0s 1ms/step - loss: 0.0251 - mse: 0.0251\n",
      "Epoch 117/300\n",
      "8/8 [==============================] - 0s 882us/step - loss: 0.0251 - mse: 0.0251\n",
      "Epoch 118/300\n",
      "8/8 [==============================] - 0s 952us/step - loss: 0.0251 - mse: 0.0251\n",
      "Epoch 119/300\n",
      "8/8 [==============================] - 0s 943us/step - loss: 0.0251 - mse: 0.0251\n",
      "Epoch 120/300\n",
      "8/8 [==============================] - 0s 926us/step - loss: 0.0252 - mse: 0.0252\n",
      "Epoch 121/300\n",
      "8/8 [==============================] - 0s 999us/step - loss: 0.0251 - mse: 0.0251\n",
      "Epoch 122/300\n",
      "8/8 [==============================] - 0s 839us/step - loss: 0.0252 - mse: 0.0252\n",
      "Epoch 123/300\n",
      "8/8 [==============================] - 0s 997us/step - loss: 0.0251 - mse: 0.0251\n",
      "Epoch 124/300\n",
      "8/8 [==============================] - 0s 712us/step - loss: 0.0252 - mse: 0.0252\n",
      "Epoch 125/300\n",
      "8/8 [==============================] - 0s 997us/step - loss: 0.0251 - mse: 0.0251\n",
      "Epoch 126/300\n",
      "8/8 [==============================] - 0s 713us/step - loss: 0.0251 - mse: 0.0251\n",
      "Epoch 127/300\n",
      "8/8 [==============================] - 0s 857us/step - loss: 0.0251 - mse: 0.0251\n",
      "Epoch 128/300\n",
      "8/8 [==============================] - 0s 854us/step - loss: 0.0251 - mse: 0.0251\n",
      "Epoch 129/300\n",
      "8/8 [==============================] - 0s 855us/step - loss: 0.0251 - mse: 0.0251\n",
      "Epoch 130/300\n",
      "8/8 [==============================] - 0s 712us/step - loss: 0.0251 - mse: 0.0251\n",
      "Epoch 131/300\n",
      "8/8 [==============================] - 0s 855us/step - loss: 0.0252 - mse: 0.0252\n",
      "Epoch 132/300\n",
      "8/8 [==============================] - 0s 786us/step - loss: 0.0252 - mse: 0.0252\n",
      "Epoch 133/300\n",
      "8/8 [==============================] - 0s 713us/step - loss: 0.0251 - mse: 0.0251\n",
      "Epoch 134/300\n",
      "8/8 [==============================] - 0s 855us/step - loss: 0.0251 - mse: 0.0251\n",
      "Epoch 135/300\n",
      "8/8 [==============================] - 0s 855us/step - loss: 0.0252 - mse: 0.0252\n",
      "Epoch 136/300\n",
      "8/8 [==============================] - 0s 920us/step - loss: 0.0251 - mse: 0.0251\n",
      "Epoch 137/300\n",
      "8/8 [==============================] - 0s 855us/step - loss: 0.0252 - mse: 0.0252\n",
      "Epoch 138/300\n",
      "8/8 [==============================] - 0s 900us/step - loss: 0.0252 - mse: 0.0252\n",
      "Epoch 139/300\n",
      "8/8 [==============================] - 0s 1ms/step - loss: 0.0252 - mse: 0.0252\n",
      "Epoch 140/300\n",
      "8/8 [==============================] - 0s 850us/step - loss: 0.0251 - mse: 0.0251\n",
      "Epoch 141/300\n",
      "8/8 [==============================] - 0s 859us/step - loss: 0.0251 - mse: 0.0251\n",
      "Epoch 142/300\n",
      "8/8 [==============================] - 0s 713us/step - loss: 0.0251 - mse: 0.0251\n",
      "Epoch 143/300\n",
      "8/8 [==============================] - 0s 855us/step - loss: 0.0251 - mse: 0.0251\n",
      "Epoch 144/300\n",
      "8/8 [==============================] - 0s 994us/step - loss: 0.0252 - mse: 0.0252\n",
      "Epoch 145/300\n",
      "8/8 [==============================] - 0s 1ms/step - loss: 0.0252 - mse: 0.0252\n",
      "Epoch 146/300\n",
      "8/8 [==============================] - 0s 997us/step - loss: 0.0251 - mse: 0.0251\n",
      "Epoch 147/300\n",
      "8/8 [==============================] - 0s 860us/step - loss: 0.0251 - mse: 0.0251\n",
      "Epoch 148/300\n",
      "8/8 [==============================] - 0s 853us/step - loss: 0.0251 - mse: 0.0251\n",
      "Epoch 149/300\n",
      "8/8 [==============================] - 0s 855us/step - loss: 0.0251 - mse: 0.0251\n",
      "Epoch 150/300\n",
      "8/8 [==============================] - 0s 712us/step - loss: 0.0251 - mse: 0.0251\n",
      "Epoch 151/300\n",
      "8/8 [==============================] - 0s 858us/step - loss: 0.0251 - mse: 0.0251\n",
      "Epoch 152/300\n",
      "8/8 [==============================] - 0s 710us/step - loss: 0.0251 - mse: 0.0251\n",
      "Epoch 153/300\n",
      "8/8 [==============================] - 0s 712us/step - loss: 0.0251 - mse: 0.0251\n",
      "Epoch 154/300\n",
      "8/8 [==============================] - 0s 853us/step - loss: 0.0251 - mse: 0.0251\n",
      "Epoch 155/300\n",
      "8/8 [==============================] - 0s 712us/step - loss: 0.0252 - mse: 0.0252\n",
      "Epoch 156/300\n",
      "8/8 [==============================] - 0s 855us/step - loss: 0.0251 - mse: 0.0251\n",
      "Epoch 157/300\n",
      "8/8 [==============================] - 0s 870us/step - loss: 0.0251 - mse: 0.0251\n",
      "Epoch 158/300\n",
      "8/8 [==============================] - 0s 710us/step - loss: 0.0251 - mse: 0.0251\n",
      "Epoch 159/300\n",
      "8/8 [==============================] - 0s 855us/step - loss: 0.0251 - mse: 0.0251\n",
      "Epoch 160/300\n",
      "8/8 [==============================] - 0s 2ms/step - loss: 0.0251 - mse: 0.0251\n",
      "Epoch 161/300\n",
      "8/8 [==============================] - 0s 762us/step - loss: 0.0251 - mse: 0.0251\n",
      "Epoch 162/300\n",
      "8/8 [==============================] - 0s 1000us/step - loss: 0.0251 - mse: 0.0251\n",
      "Epoch 163/300\n",
      "8/8 [==============================] - 0s 849us/step - loss: 0.0252 - mse: 0.0252\n",
      "Epoch 164/300\n",
      "8/8 [==============================] - 0s 858us/step - loss: 0.0252 - mse: 0.0252\n",
      "Epoch 165/300\n",
      "8/8 [==============================] - 0s 712us/step - loss: 0.0251 - mse: 0.0251\n",
      "Epoch 166/300\n",
      "8/8 [==============================] - 0s 859us/step - loss: 0.0251 - mse: 0.0251\n",
      "Epoch 167/300\n",
      "8/8 [==============================] - 0s 712us/step - loss: 0.0252 - mse: 0.0252\n",
      "Epoch 168/300\n",
      "8/8 [==============================] - 0s 1ms/step - loss: 0.0251 - mse: 0.0251\n",
      "Epoch 169/300\n",
      "8/8 [==============================] - 0s 1ms/step - loss: 0.0251 - mse: 0.0251\n",
      "Epoch 170/300\n",
      "8/8 [==============================] - 0s 855us/step - loss: 0.0252 - mse: 0.0252\n",
      "Epoch 171/300\n",
      "8/8 [==============================] - 0s 857us/step - loss: 0.0251 - mse: 0.0251\n",
      "Epoch 172/300\n"
     ]
    },
    {
     "name": "stdout",
     "output_type": "stream",
     "text": [
      "8/8 [==============================] - 0s 713us/step - loss: 0.0251 - mse: 0.0251\n",
      "Epoch 173/300\n",
      "8/8 [==============================] - 0s 855us/step - loss: 0.0252 - mse: 0.0252\n",
      "Epoch 174/300\n",
      "8/8 [==============================] - 0s 712us/step - loss: 0.0252 - mse: 0.0252\n",
      "Epoch 175/300\n",
      "8/8 [==============================] - 0s 1ms/step - loss: 0.0251 - mse: 0.0251\n",
      "Epoch 176/300\n",
      "8/8 [==============================] - 0s 792us/step - loss: 0.0252 - mse: 0.0252\n",
      "Epoch 177/300\n",
      "8/8 [==============================] - 0s 998us/step - loss: 0.0251 - mse: 0.0251\n",
      "Epoch 178/300\n",
      "8/8 [==============================] - 0s 712us/step - loss: 0.0251 - mse: 0.0251\n",
      "Epoch 179/300\n",
      "8/8 [==============================] - 0s 1ms/step - loss: 0.0251 - mse: 0.0251\n",
      "Epoch 180/300\n",
      "8/8 [==============================] - 0s 855us/step - loss: 0.0252 - mse: 0.0252\n",
      "Epoch 181/300\n",
      "8/8 [==============================] - 0s 857us/step - loss: 0.0251 - mse: 0.0251\n",
      "Epoch 182/300\n",
      "8/8 [==============================] - 0s 851us/step - loss: 0.0251 - mse: 0.0251\n",
      "Epoch 183/300\n",
      "8/8 [==============================] - 0s 855us/step - loss: 0.0251 - mse: 0.0251\n",
      "Epoch 184/300\n",
      "8/8 [==============================] - 0s 709us/step - loss: 0.0251 - mse: 0.0251\n",
      "Epoch 185/300\n",
      "8/8 [==============================] - 0s 997us/step - loss: 0.0251 - mse: 0.0251\n",
      "Epoch 186/300\n",
      "8/8 [==============================] - 0s 2ms/step - loss: 0.0251 - mse: 0.0251\n",
      "Epoch 187/300\n",
      "8/8 [==============================] - 0s 711us/step - loss: 0.0252 - mse: 0.0252\n",
      "Epoch 188/300\n",
      "8/8 [==============================] - 0s 1ms/step - loss: 0.0251 - mse: 0.0251\n",
      "Epoch 189/300\n",
      "8/8 [==============================] - 0s 662us/step - loss: 0.0251 - mse: 0.0251\n",
      "Epoch 190/300\n",
      "8/8 [==============================] - 0s 1ms/step - loss: 0.0251 - mse: 0.0251\n",
      "Epoch 191/300\n",
      "8/8 [==============================] - 0s 712us/step - loss: 0.0251 - mse: 0.0251\n",
      "Epoch 192/300\n",
      "8/8 [==============================] - 0s 1ms/step - loss: 0.0252 - mse: 0.0252\n",
      "Epoch 193/300\n",
      "8/8 [==============================] - 0s 707us/step - loss: 0.0252 - mse: 0.0252\n",
      "Epoch 194/300\n",
      "8/8 [==============================] - 0s 855us/step - loss: 0.0251 - mse: 0.0251\n",
      "Epoch 195/300\n",
      "8/8 [==============================] - 0s 703us/step - loss: 0.0251 - mse: 0.0251\n",
      "Epoch 196/300\n",
      "8/8 [==============================] - 0s 855us/step - loss: 0.0251 - mse: 0.0251\n",
      "Epoch 197/300\n",
      "8/8 [==============================] - 0s 997us/step - loss: 0.0252 - mse: 0.0252\n",
      "Epoch 198/300\n",
      "8/8 [==============================] - 0s 881us/step - loss: 0.0252 - mse: 0.0252\n",
      "Epoch 199/300\n",
      "8/8 [==============================] - 0s 997us/step - loss: 0.0251 - mse: 0.0251\n",
      "Epoch 200/300\n",
      "8/8 [==============================] - 0s 575us/step - loss: 0.0251 - mse: 0.0251\n",
      "Epoch 201/300\n",
      "8/8 [==============================] - 0s 1ms/step - loss: 0.0251 - mse: 0.0251\n",
      "Epoch 202/300\n",
      "8/8 [==============================] - 0s 712us/step - loss: 0.0252 - mse: 0.0252\n",
      "Epoch 203/300\n",
      "8/8 [==============================] - 0s 997us/step - loss: 0.0251 - mse: 0.0251\n",
      "Epoch 204/300\n",
      "8/8 [==============================] - 0s 712us/step - loss: 0.0251 - mse: 0.0251\n",
      "Epoch 205/300\n",
      "8/8 [==============================] - 0s 1ms/step - loss: 0.0251 - mse: 0.0251\n",
      "Epoch 206/300\n",
      "8/8 [==============================] - 0s 712us/step - loss: 0.0251 - mse: 0.0251\n",
      "Epoch 207/300\n",
      "8/8 [==============================] - 0s 1ms/step - loss: 0.0251 - mse: 0.0251\n",
      "Epoch 208/300\n",
      "8/8 [==============================] - 0s 708us/step - loss: 0.0251 - mse: 0.0251\n",
      "Epoch 209/300\n",
      "8/8 [==============================] - 0s 997us/step - loss: 0.0251 - mse: 0.0251\n",
      "Epoch 210/300\n",
      "8/8 [==============================] - 0s 713us/step - loss: 0.0251 - mse: 0.0251\n",
      "Epoch 211/300\n",
      "8/8 [==============================] - 0s 997us/step - loss: 0.0251 - mse: 0.0251\n",
      "Epoch 212/300\n",
      "8/8 [==============================] - 0s 855us/step - loss: 0.0251 - mse: 0.0251\n",
      "Epoch 213/300\n",
      "8/8 [==============================] - 0s 855us/step - loss: 0.0251 - mse: 0.0251\n",
      "Epoch 214/300\n",
      "8/8 [==============================] - 0s 821us/step - loss: 0.0252 - mse: 0.0252\n",
      "Epoch 215/300\n",
      "8/8 [==============================] - 0s 997us/step - loss: 0.0251 - mse: 0.0251\n",
      "Epoch 216/300\n",
      "8/8 [==============================] - 0s 855us/step - loss: 0.0252 - mse: 0.0252\n",
      "Epoch 217/300\n",
      "8/8 [==============================] - 0s 855us/step - loss: 0.0251 - mse: 0.0251\n",
      "Epoch 218/300\n",
      "8/8 [==============================] - 0s 712us/step - loss: 0.0251 - mse: 0.0251\n",
      "Epoch 219/300\n",
      "8/8 [==============================] - 0s 855us/step - loss: 0.0251 - mse: 0.0251\n",
      "Epoch 220/300\n",
      "8/8 [==============================] - 0s 712us/step - loss: 0.0252 - mse: 0.0252\n",
      "Epoch 221/300\n",
      "8/8 [==============================] - 0s 854us/step - loss: 0.0251 - mse: 0.0251\n",
      "Epoch 222/300\n",
      "8/8 [==============================] - 0s 712us/step - loss: 0.0251 - mse: 0.0251\n",
      "Epoch 223/300\n",
      "8/8 [==============================] - 0s 855us/step - loss: 0.0252 - mse: 0.0252\n",
      "Epoch 224/300\n",
      "8/8 [==============================] - 0s 709us/step - loss: 0.0251 - mse: 0.0251\n",
      "Epoch 225/300\n",
      "8/8 [==============================] - 0s 1ms/step - loss: 0.0251 - mse: 0.0251\n",
      "Epoch 226/300\n",
      "8/8 [==============================] - 0s 855us/step - loss: 0.0251 - mse: 0.0251\n",
      "Epoch 227/300\n",
      "8/8 [==============================] - 0s 855us/step - loss: 0.0252 - mse: 0.0252\n",
      "Epoch 228/300\n",
      "8/8 [==============================] - 0s 712us/step - loss: 0.0251 - mse: 0.0251\n",
      "Epoch 229/300\n",
      "8/8 [==============================] - 0s 994us/step - loss: 0.0251 - mse: 0.0251\n",
      "Epoch 230/300\n",
      "8/8 [==============================] - 0s 576us/step - loss: 0.0251 - mse: 0.0251\n",
      "Epoch 231/300\n",
      "8/8 [==============================] - 0s 851us/step - loss: 0.0251 - mse: 0.0251\n",
      "Epoch 232/300\n",
      "8/8 [==============================] - 0s 711us/step - loss: 0.0251 - mse: 0.0251\n",
      "Epoch 233/300\n",
      "8/8 [==============================] - 0s 851us/step - loss: 0.0252 - mse: 0.0252\n",
      "Epoch 234/300\n",
      "8/8 [==============================] - 0s 716us/step - loss: 0.0251 - mse: 0.0251\n",
      "Epoch 235/300\n",
      "8/8 [==============================] - 0s 855us/step - loss: 0.0251 - mse: 0.0251\n",
      "Epoch 236/300\n",
      "8/8 [==============================] - 0s 570us/step - loss: 0.0251 - mse: 0.0251\n",
      "Epoch 237/300\n",
      "8/8 [==============================] - 0s 852us/step - loss: 0.0251 - mse: 0.0251\n",
      "Epoch 238/300\n",
      "8/8 [==============================] - 0s 853us/step - loss: 0.0251 - mse: 0.0251\n",
      "Epoch 239/300\n",
      "8/8 [==============================] - 0s 850us/step - loss: 0.0251 - mse: 0.0251\n",
      "Epoch 240/300\n",
      "8/8 [==============================] - 0s 855us/step - loss: 0.0251 - mse: 0.0251\n",
      "Epoch 241/300\n",
      "8/8 [==============================] - 0s 713us/step - loss: 0.0252 - mse: 0.0252\n",
      "Epoch 242/300\n",
      "8/8 [==============================] - 0s 716us/step - loss: 0.0251 - mse: 0.0251\n",
      "Epoch 243/300\n",
      "8/8 [==============================] - 0s 712us/step - loss: 0.0251 - mse: 0.0251\n",
      "Epoch 244/300\n",
      "8/8 [==============================] - 0s 855us/step - loss: 0.0252 - mse: 0.0252\n",
      "Epoch 245/300\n",
      "8/8 [==============================] - 0s 851us/step - loss: 0.0251 - mse: 0.0251\n",
      "Epoch 246/300\n",
      "8/8 [==============================] - 0s 852us/step - loss: 0.0251 - mse: 0.0251\n",
      "Epoch 247/300\n",
      "8/8 [==============================] - 0s 851us/step - loss: 0.0252 - mse: 0.0252\n",
      "Epoch 248/300\n",
      "8/8 [==============================] - 0s 855us/step - loss: 0.0252 - mse: 0.0252\n",
      "Epoch 249/300\n",
      "8/8 [==============================] - 0s 716us/step - loss: 0.0251 - mse: 0.0251\n",
      "Epoch 250/300\n",
      "8/8 [==============================] - 0s 854us/step - loss: 0.0251 - mse: 0.0251\n",
      "Epoch 251/300\n",
      "8/8 [==============================] - 0s 713us/step - loss: 0.0252 - mse: 0.0252\n",
      "Epoch 252/300\n",
      "8/8 [==============================] - 0s 857us/step - loss: 0.0251 - mse: 0.0251\n",
      "Epoch 253/300\n",
      "8/8 [==============================] - 0s 724us/step - loss: 0.0251 - mse: 0.0251\n",
      "Epoch 254/300\n",
      "8/8 [==============================] - 0s 712us/step - loss: 0.0251 - mse: 0.0251\n",
      "Epoch 255/300\n",
      "8/8 [==============================] - 0s 712us/step - loss: 0.0251 - mse: 0.0251\n",
      "Epoch 256/300\n",
      "8/8 [==============================] - 0s 855us/step - loss: 0.0251 - mse: 0.0251\n",
      "Epoch 257/300\n"
     ]
    },
    {
     "name": "stdout",
     "output_type": "stream",
     "text": [
      "8/8 [==============================] - 0s 851us/step - loss: 0.0251 - mse: 0.0251\n",
      "Epoch 258/300\n",
      "8/8 [==============================] - 0s 857us/step - loss: 0.0251 - mse: 0.0251\n",
      "Epoch 259/300\n",
      "8/8 [==============================] - 0s 716us/step - loss: 0.0251 - mse: 0.0251\n",
      "Epoch 260/300\n",
      "8/8 [==============================] - 0s 856us/step - loss: 0.0252 - mse: 0.0252\n",
      "Epoch 261/300\n",
      "8/8 [==============================] - 0s 853us/step - loss: 0.0251 - mse: 0.0251\n",
      "Epoch 262/300\n",
      "8/8 [==============================] - 0s 858us/step - loss: 0.0251 - mse: 0.0251\n",
      "Epoch 263/300\n",
      "8/8 [==============================] - 0s 712us/step - loss: 0.0252 - mse: 0.0252\n",
      "Epoch 264/300\n",
      "8/8 [==============================] - 0s 856us/step - loss: 0.0252 - mse: 0.0252\n",
      "Epoch 265/300\n",
      "8/8 [==============================] - 0s 712us/step - loss: 0.0252 - mse: 0.0252\n",
      "Epoch 266/300\n",
      "8/8 [==============================] - 0s 997us/step - loss: 0.0252 - mse: 0.0252\n",
      "Epoch 267/300\n",
      "8/8 [==============================] - 0s 858us/step - loss: 0.0251 - mse: 0.0251\n",
      "Epoch 268/300\n",
      "8/8 [==============================] - 0s 711us/step - loss: 0.0251 - mse: 0.0251\n",
      "Epoch 269/300\n",
      "8/8 [==============================] - 0s 855us/step - loss: 0.0251 - mse: 0.0251\n",
      "Epoch 270/300\n",
      "8/8 [==============================] - 0s 999us/step - loss: 0.0251 - mse: 0.0251\n",
      "Epoch 271/300\n",
      "8/8 [==============================] - 0s 711us/step - loss: 0.0251 - mse: 0.0251\n",
      "Epoch 272/300\n",
      "8/8 [==============================] - 0s 852us/step - loss: 0.0251 - mse: 0.0251\n",
      "Epoch 273/300\n",
      "8/8 [==============================] - 0s 709us/step - loss: 0.0251 - mse: 0.0251\n",
      "Epoch 274/300\n",
      "8/8 [==============================] - 0s 855us/step - loss: 0.0252 - mse: 0.0252\n",
      "Epoch 275/300\n",
      "8/8 [==============================] - 0s 712us/step - loss: 0.0251 - mse: 0.0251\n",
      "Epoch 276/300\n",
      "8/8 [==============================] - 0s 855us/step - loss: 0.0252 - mse: 0.0252\n",
      "Epoch 277/300\n",
      "8/8 [==============================] - 0s 712us/step - loss: 0.0251 - mse: 0.0251\n",
      "Epoch 278/300\n",
      "8/8 [==============================] - 0s 711us/step - loss: 0.0251 - mse: 0.0251\n",
      "Epoch 279/300\n",
      "8/8 [==============================] - 0s 712us/step - loss: 0.0252 - mse: 0.0252\n",
      "Epoch 280/300\n",
      "8/8 [==============================] - 0s 713us/step - loss: 0.0251 - mse: 0.0251\n",
      "Epoch 281/300\n",
      "8/8 [==============================] - 0s 855us/step - loss: 0.0252 - mse: 0.0252\n",
      "Epoch 282/300\n",
      "8/8 [==============================] - 0s 851us/step - loss: 0.0252 - mse: 0.0252\n",
      "Epoch 283/300\n",
      "8/8 [==============================] - 0s 716us/step - loss: 0.0251 - mse: 0.0251\n",
      "Epoch 284/300\n",
      "8/8 [==============================] - 0s 851us/step - loss: 0.0252 - mse: 0.0252\n",
      "Epoch 285/300\n",
      "8/8 [==============================] - 0s 859us/step - loss: 0.0252 - mse: 0.0252\n",
      "Epoch 286/300\n",
      "8/8 [==============================] - 0s 851us/step - loss: 0.0252 - mse: 0.0252\n",
      "Epoch 287/300\n",
      "8/8 [==============================] - 0s 999us/step - loss: 0.0251 - mse: 0.0251\n",
      "Epoch 288/300\n",
      "8/8 [==============================] - 0s 855us/step - loss: 0.0252 - mse: 0.0252\n",
      "Epoch 289/300\n",
      "8/8 [==============================] - 0s 858us/step - loss: 0.0251 - mse: 0.0251\n",
      "Epoch 290/300\n",
      "8/8 [==============================] - 0s 704us/step - loss: 0.0251 - mse: 0.0251\n",
      "Epoch 291/300\n",
      "8/8 [==============================] - 0s 712us/step - loss: 0.0252 - mse: 0.0252\n",
      "Epoch 292/300\n",
      "8/8 [==============================] - 0s 716us/step - loss: 0.0251 - mse: 0.0251\n",
      "Epoch 293/300\n",
      "8/8 [==============================] - 0s 994us/step - loss: 0.0251 - mse: 0.0251\n",
      "Epoch 294/300\n",
      "8/8 [==============================] - 0s 715us/step - loss: 0.0251 - mse: 0.0251\n",
      "Epoch 295/300\n",
      "8/8 [==============================] - 0s 997us/step - loss: 0.0251 - mse: 0.0251\n",
      "Epoch 296/300\n",
      "8/8 [==============================] - 0s 793us/step - loss: 0.0251 - mse: 0.0251\n",
      "Epoch 297/300\n",
      "8/8 [==============================] - 0s 855us/step - loss: 0.0251 - mse: 0.0251\n",
      "Epoch 298/300\n",
      "8/8 [==============================] - 0s 712us/step - loss: 0.0251 - mse: 0.0251\n",
      "Epoch 299/300\n",
      "8/8 [==============================] - 0s 716us/step - loss: 0.0251 - mse: 0.0251\n",
      "Epoch 300/300\n",
      "8/8 [==============================] - 0s 777us/step - loss: 0.0251 - mse: 0.0251\n"
     ]
    }
   ],
   "source": [
    "model.compile(optimizer='sgd', loss='mse', metrics='mse')\n",
    "history = model.fit(trainX, trainY, steps_per_epoch=8, epochs=300)"
   ]
  },
  {
   "cell_type": "code",
   "execution_count": 49,
   "id": "628ce977",
   "metadata": {},
   "outputs": [],
   "source": [
    "processed_x = x_scaler.transform(np.reshape(testX, (-1, 1)))\n",
    "predicted_y = y_scaler.inverse_transform(model(processed_x.astype(\"float32\")))"
   ]
  },
  {
   "cell_type": "code",
   "execution_count": 50,
   "id": "7452a7c1",
   "metadata": {},
   "outputs": [
    {
     "data": {
      "text/plain": [
       "0.9757123334577587"
      ]
     },
     "execution_count": 50,
     "metadata": {},
     "output_type": "execute_result"
    }
   ],
   "source": [
    "r2_score(testY, predicted_y)"
   ]
  },
  {
   "cell_type": "code",
   "execution_count": 51,
   "id": "31c29b09",
   "metadata": {},
   "outputs": [
    {
     "data": {
      "text/plain": [
       "[<tf.Variable 'dense/kernel:0' shape=(1, 1) dtype=float32, numpy=array([[0.9870833]], dtype=float32)>,\n",
       " <tf.Variable 'dense/bias:0' shape=(1,) dtype=float32, numpy=array([0.00017185], dtype=float32)>]"
      ]
     },
     "execution_count": 51,
     "metadata": {},
     "output_type": "execute_result"
    }
   ],
   "source": [
    "model.weights"
   ]
  },
  {
   "cell_type": "code",
   "execution_count": 52,
   "id": "c8f5e6d5",
   "metadata": {},
   "outputs": [
    {
     "data": {
      "text/plain": [
       "[array([[0.9870833]], dtype=float32), array([0.00017185], dtype=float32)]"
      ]
     },
     "execution_count": 52,
     "metadata": {},
     "output_type": "execute_result"
    }
   ],
   "source": [
    "model.get_weights()"
   ]
  },
  {
   "cell_type": "code",
   "execution_count": null,
   "id": "c0f3d6f2",
   "metadata": {},
   "outputs": [],
   "source": []
  }
 ],
 "metadata": {
  "kernelspec": {
   "display_name": "Python 3 (ipykernel)",
   "language": "python",
   "name": "python3"
  },
  "language_info": {
   "codemirror_mode": {
    "name": "ipython",
    "version": 3
   },
   "file_extension": ".py",
   "mimetype": "text/x-python",
   "name": "python",
   "nbconvert_exporter": "python",
   "pygments_lexer": "ipython3",
   "version": "3.9.12"
  }
 },
 "nbformat": 4,
 "nbformat_minor": 5
}
