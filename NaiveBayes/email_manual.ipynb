{
 "cells": [
  {
   "cell_type": "markdown",
   "id": "316a23c2",
   "metadata": {},
   "source": [
    "# Read Data"
   ]
  },
  {
   "cell_type": "code",
   "execution_count": 1,
   "id": "cef00c4f",
   "metadata": {},
   "outputs": [
    {
     "data": {
      "text/html": [
       "<div>\n",
       "<style scoped>\n",
       "    .dataframe tbody tr th:only-of-type {\n",
       "        vertical-align: middle;\n",
       "    }\n",
       "\n",
       "    .dataframe tbody tr th {\n",
       "        vertical-align: top;\n",
       "    }\n",
       "\n",
       "    .dataframe thead th {\n",
       "        text-align: right;\n",
       "    }\n",
       "</style>\n",
       "<table border=\"1\" class=\"dataframe\">\n",
       "  <thead>\n",
       "    <tr style=\"text-align: right;\">\n",
       "      <th></th>\n",
       "      <th>v1</th>\n",
       "      <th>v2</th>\n",
       "      <th>Unnamed: 2</th>\n",
       "      <th>Unnamed: 3</th>\n",
       "      <th>Unnamed: 4</th>\n",
       "    </tr>\n",
       "  </thead>\n",
       "  <tbody>\n",
       "    <tr>\n",
       "      <th>0</th>\n",
       "      <td>ham</td>\n",
       "      <td>Go until jurong point, crazy.. Available only ...</td>\n",
       "      <td>NaN</td>\n",
       "      <td>NaN</td>\n",
       "      <td>NaN</td>\n",
       "    </tr>\n",
       "    <tr>\n",
       "      <th>1</th>\n",
       "      <td>ham</td>\n",
       "      <td>Ok lar... Joking wif u oni...</td>\n",
       "      <td>NaN</td>\n",
       "      <td>NaN</td>\n",
       "      <td>NaN</td>\n",
       "    </tr>\n",
       "    <tr>\n",
       "      <th>2</th>\n",
       "      <td>spam</td>\n",
       "      <td>Free entry in 2 a wkly comp to win FA Cup fina...</td>\n",
       "      <td>NaN</td>\n",
       "      <td>NaN</td>\n",
       "      <td>NaN</td>\n",
       "    </tr>\n",
       "    <tr>\n",
       "      <th>3</th>\n",
       "      <td>ham</td>\n",
       "      <td>U dun say so early hor... U c already then say...</td>\n",
       "      <td>NaN</td>\n",
       "      <td>NaN</td>\n",
       "      <td>NaN</td>\n",
       "    </tr>\n",
       "    <tr>\n",
       "      <th>4</th>\n",
       "      <td>ham</td>\n",
       "      <td>Nah I don't think he goes to usf, he lives aro...</td>\n",
       "      <td>NaN</td>\n",
       "      <td>NaN</td>\n",
       "      <td>NaN</td>\n",
       "    </tr>\n",
       "  </tbody>\n",
       "</table>\n",
       "</div>"
      ],
      "text/plain": [
       "     v1                                                 v2 Unnamed: 2  \\\n",
       "0   ham  Go until jurong point, crazy.. Available only ...        NaN   \n",
       "1   ham                      Ok lar... Joking wif u oni...        NaN   \n",
       "2  spam  Free entry in 2 a wkly comp to win FA Cup fina...        NaN   \n",
       "3   ham  U dun say so early hor... U c already then say...        NaN   \n",
       "4   ham  Nah I don't think he goes to usf, he lives aro...        NaN   \n",
       "\n",
       "  Unnamed: 3 Unnamed: 4  \n",
       "0        NaN        NaN  \n",
       "1        NaN        NaN  \n",
       "2        NaN        NaN  \n",
       "3        NaN        NaN  \n",
       "4        NaN        NaN  "
      ]
     },
     "execution_count": 1,
     "metadata": {},
     "output_type": "execute_result"
    }
   ],
   "source": [
    "import pandas as pd\n",
    "import numpy as np \n",
    "\n",
    "data_dir = \"naive_bayes/email/input/\"\n",
    "df = pd.read_csv(data_dir + '/spam.csv', encoding='latin-1')  \n",
    "\n",
    "df.head()"
   ]
  },
  {
   "cell_type": "markdown",
   "id": "e83240e8",
   "metadata": {},
   "source": [
    "# Split Data into Training and Testing Sets"
   ]
  },
  {
   "cell_type": "code",
   "execution_count": 2,
   "id": "db2af620",
   "metadata": {},
   "outputs": [],
   "source": [
    "from sklearn.model_selection import train_test_split\n",
    "\n",
    "data_train, data_test, labels_train, labels_test = train_test_split(\n",
    "    df.v2, #text\n",
    "    df.v1, #label\n",
    "    test_size=0.2, \n",
    "    random_state=0) #seed number"
   ]
  },
  {
   "cell_type": "markdown",
   "id": "1603afea",
   "metadata": {},
   "source": [
    "# Transform Data to Fit Model Rrequirement"
   ]
  },
  {
   "cell_type": "code",
   "execution_count": 3,
   "id": "5ec060ed",
   "metadata": {},
   "outputs": [],
   "source": [
    "#create dict\n",
    "def getVocab(data):\n",
    "    vocab_dict = {}\n",
    "    wid = 0\n",
    "    \n",
    "    for document in data:\n",
    "        words = document.split(\" \")\n",
    "        for word in words:\n",
    "            word = word.lower()\n",
    "            if word not in vocab_dict:\n",
    "                vocab_dict[word] = wid\n",
    "                wid += 1\n",
    "    return vocab_dict"
   ]
  },
  {
   "cell_type": "code",
   "execution_count": 10,
   "id": "8e560c00",
   "metadata": {},
   "outputs": [],
   "source": [
    "#vectorize document\n",
    "def doc2Vector(vocab_dict, document):\n",
    "    word_vector = np.zeros(len(vocab_dict.keys()))\n",
    "    words = document.split(\" \")\n",
    "    out_of_voc = 0\n",
    "    \n",
    "    for word in words:\n",
    "        word = word.lower()\n",
    "        if word in vocab_dict:\n",
    "            word_vector[vocab_dict[word]] += 1\n",
    "        else:\n",
    "            out_of_voc += 1\n",
    "    return word_vector, out_of_voc"
   ]
  },
  {
   "cell_type": "code",
   "execution_count": 11,
   "id": "a868768b",
   "metadata": {},
   "outputs": [
    {
     "name": "stdout",
     "output_type": "stream",
     "text": [
      "4457\n"
     ]
    }
   ],
   "source": [
    "vocab_dict = getVocab(data_train)\n",
    "train_matrix = []\n",
    "for document in data_train.values:\n",
    "    word_vector, _ = doc2Vector(vocab_dict, document)\n",
    "    train_matrix.append(word_vector)\n",
    "\n",
    "print(len(train_matrix))"
   ]
  },
  {
   "cell_type": "markdown",
   "id": "af3edd16",
   "metadata": {},
   "source": [
    "# Train Model and Predict"
   ]
  },
  {
   "cell_type": "code",
   "execution_count": 15,
   "id": "a1b5f676",
   "metadata": {},
   "outputs": [],
   "source": [
    "def naiveBayes_train(train_matrix, labels_train):\n",
    "    num_docs = len(train_matrix)\n",
    "    num_words = len(train_matrix[0])\n",
    "    \n",
    "    spam_word_counter = np.ones(num_words)\n",
    "    ham_word_counter = np.ones(num_words)\n",
    "    \n",
    "    spam_total_words = 0\n",
    "    ham_total_words = 0\n",
    "    \n",
    "    spam_count = 0\n",
    "    ham_count = 0\n",
    "    \n",
    "    for i in range(num_docs):\n",
    "        if labels_train[i] == 'ham':\n",
    "            ham_word_counter += train_matrix[i]\n",
    "            ham_total_words += sum(train_matrix[i])\n",
    "            ham_count += 1\n",
    "        else:\n",
    "            spam_word_counter += train_matrix[i]\n",
    "            spam_total_words += sum(train_matrix[i])\n",
    "            spam_count += 1\n",
    "    \n",
    "    p_spam_vector = np.log(spam_word_counter / (spam_total_words + num_words))\n",
    "    p_ham_vector = np.log(ham_word_counter / (ham_total_words + num_words))\n",
    "    p_spam = np.log(spam_count / num_docs)\n",
    "    p_ham = np.log(ham_count / num_docs)\n",
    "    \n",
    "    return p_spam_vector, p_ham_vector, p_spam, p_ham, spam_total_words, ham_total_words\n",
    "\n",
    "p_spam_vector, p_ham_vector, p_spam, p_ham, spam_total_words, ham_total_words = naiveBayes_train(train_matrix, labels_train.values)"
   ]
  },
  {
   "cell_type": "code",
   "execution_count": 23,
   "id": "58d9f19a",
   "metadata": {},
   "outputs": [],
   "source": [
    "def predict(test_word_vector, p_spam_vector, p_spam, p_ham_vector, p_ham, spam_smoothing, ham_smoothing):\n",
    "    \n",
    "    spam = sum(test_word_vector * p_spam_vector) + p_spam + spam_smoothing\n",
    "    ham = sum(test_word_vector * p_ham_vector) + p_ham + ham_smoothing\n",
    "    \n",
    "    if spam > ham:\n",
    "        return 'spam'\n",
    "    else:\n",
    "        return 'ham'\n",
    "    \n",
    "num_words = len(vocab_dict.keys())\n",
    "predictions = []\n",
    "\n",
    "for doccument in data_test.values:\n",
    "    test_word_vector, out_of_voc = doc2Vector(vocab_dict, doccument)\n",
    "    if out_of_voc == 0:\n",
    "        spam_smoothing = 0\n",
    "        ham_smoothing = 0\n",
    "    else:\n",
    "        spam_smoothing = np.log(out_of_voc / (spam_total_words + num_words))\n",
    "        ham_smoothing = np.log(out_of_voc / (ham_total_words + num_words))\n",
    "    temp = predict(test_word_vector, p_spam_vector, p_spam, p_ham_vector, p_ham, spam_smoothing, ham_smoothing)\n",
    "    predictions.append(temp)"
   ]
  },
  {
   "cell_type": "markdown",
   "id": "ccabc2ab",
   "metadata": {},
   "source": [
    "# Check Accuracy"
   ]
  },
  {
   "cell_type": "code",
   "execution_count": 24,
   "id": "82b0cc80",
   "metadata": {},
   "outputs": [
    {
     "name": "stdout",
     "output_type": "stream",
     "text": [
      "0.97847533632287\n",
      "              precision    recall  f1-score   support\n",
      "\n",
      "         ham       0.98      1.00      0.99       949\n",
      "        spam       0.98      0.87      0.92       166\n",
      "\n",
      "    accuracy                           0.98      1115\n",
      "   macro avg       0.98      0.94      0.96      1115\n",
      "weighted avg       0.98      0.98      0.98      1115\n",
      "\n",
      "[[946   3]\n",
      " [ 21 145]]\n"
     ]
    }
   ],
   "source": [
    "from sklearn.metrics import accuracy_score\n",
    "from sklearn.metrics import classification_report,confusion_matrix\n",
    "\n",
    "print(accuracy_score(labels_test, predictions))\n",
    "print(classification_report(labels_test, predictions))\n",
    "print(confusion_matrix(labels_test, predictions))"
   ]
  }
 ],
 "metadata": {
  "kernelspec": {
   "display_name": "Python 3 (ipykernel)",
   "language": "python",
   "name": "python3"
  },
  "language_info": {
   "codemirror_mode": {
    "name": "ipython",
    "version": 3
   },
   "file_extension": ".py",
   "mimetype": "text/x-python",
   "name": "python",
   "nbconvert_exporter": "python",
   "pygments_lexer": "ipython3",
   "version": "3.9.12"
  }
 },
 "nbformat": 4,
 "nbformat_minor": 5
}
