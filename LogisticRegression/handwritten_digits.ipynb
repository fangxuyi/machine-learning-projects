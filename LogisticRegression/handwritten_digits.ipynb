{
 "cells": [
  {
   "cell_type": "code",
   "execution_count": 1,
   "id": "32ee1b9c",
   "metadata": {},
   "outputs": [],
   "source": [
    "import matplotlib.pyplot as plt\n",
    "from sklearn import datasets, metrics\n",
    "from sklearn.linear_model import LogisticRegression"
   ]
  },
  {
   "cell_type": "markdown",
   "id": "ebf0fc8b",
   "metadata": {},
   "source": [
    "## Read Data"
   ]
  },
  {
   "cell_type": "code",
   "execution_count": 2,
   "id": "88e10a27",
   "metadata": {},
   "outputs": [],
   "source": [
    "digits = datasets.load_digits()"
   ]
  },
  {
   "cell_type": "code",
   "execution_count": 3,
   "id": "33b3780f",
   "metadata": {},
   "outputs": [
    {
     "data": {
      "image/png": "[encoded data removed]",
      "text/plain": [
       "<Figure size 432x288 with 4 Axes>"
      ]
     },
     "metadata": {
      "needs_background": "light"
     },
     "output_type": "display_data"
    }
   ],
   "source": [
    "samples = list(zip(digits.images, digits.target))\n",
    "for id, (img, label) in enumerate(samples[:4]):\n",
    "    plt.subplot(1, 4, id + 1)\n",
    "    plt.axis('off')\n",
    "    plt.imshow(img, cmap=plt.cm.gray_r, interpolation='nearest')\n",
    "    plt.title('Label: %i' % label)\n",
    "plt.show()    "
   ]
  },
  {
   "cell_type": "code",
   "execution_count": 5,
   "id": "2328423e",
   "metadata": {},
   "outputs": [
    {
     "data": {
      "text/plain": [
       "1797"
      ]
     },
     "execution_count": 5,
     "metadata": {},
     "output_type": "execute_result"
    }
   ],
   "source": [
    "n = digits.images.shape[0]\n",
    "n"
   ]
  },
  {
   "cell_type": "code",
   "execution_count": 6,
   "id": "24bd55f6",
   "metadata": {},
   "outputs": [
    {
     "data": {
      "text/plain": [
       "array([ 0.,  0.,  5., 13.,  9.,  1.,  0.,  0.,  0.,  0., 13., 15., 10.,\n",
       "       15.,  5.,  0.,  0.,  3., 15.,  2.,  0., 11.,  8.,  0.,  0.,  4.,\n",
       "       12.,  0.,  0.,  8.,  8.,  0.,  0.,  5.,  8.,  0.,  0.,  9.,  8.,\n",
       "        0.,  0.,  4., 11.,  0.,  1., 12.,  7.,  0.,  0.,  2., 14.,  5.,\n",
       "       10., 12.,  0.,  0.,  0.,  0.,  6., 13., 10.,  0.,  0.,  0.])"
      ]
     },
     "execution_count": 6,
     "metadata": {},
     "output_type": "execute_result"
    }
   ],
   "source": [
    "digits.data[0]"
   ]
  },
  {
   "cell_type": "markdown",
   "id": "68da01a5",
   "metadata": {},
   "source": [
    "## Building Model"
   ]
  },
  {
   "cell_type": "code",
   "execution_count": 8,
   "id": "6d3e36f4",
   "metadata": {},
   "outputs": [],
   "source": [
    "model = LogisticRegression(C = 1e5)"
   ]
  },
  {
   "cell_type": "code",
   "execution_count": 10,
   "id": "78b18e08",
   "metadata": {},
   "outputs": [
    {
     "data": {
      "text/plain": [
       "LogisticRegression(C=100000.0)"
      ]
     },
     "execution_count": 10,
     "metadata": {},
     "output_type": "execute_result"
    }
   ],
   "source": [
    "model.fit(digits.data[:n//2], digits.target[:n//2])"
   ]
  },
  {
   "cell_type": "code",
   "execution_count": 11,
   "id": "8c7a4d2b",
   "metadata": {},
   "outputs": [],
   "source": [
    "pred = model.predict(digits.data[n//2:])"
   ]
  },
  {
   "cell_type": "code",
   "execution_count": 19,
   "id": "92bc6439",
   "metadata": {},
   "outputs": [
    {
     "data": {
      "image/png": "[encoded data removed]",
      "text/plain": [
       "<Figure size 432x288 with 4 Axes>"
      ]
     },
     "metadata": {
      "needs_background": "light"
     },
     "output_type": "display_data"
    }
   ],
   "source": [
    "samples = list(zip(digits.images[n//2:], pred))\n",
    "for id, (img, label) in enumerate(samples[:4]):\n",
    "    plt.subplot(1, 4, id + 1)\n",
    "    plt.axis('off')\n",
    "    plt.imshow(img, cmap=plt.cm.gray_r, interpolation='nearest')\n",
    "    plt.title('Label: %i' % label)\n",
    "plt.show()    "
   ]
  },
  {
   "cell_type": "code",
   "execution_count": 20,
   "id": "720bc6f0",
   "metadata": {},
   "outputs": [
    {
     "data": {
      "text/plain": [
       "array([[84,  0,  0,  0,  1,  0,  3,  0,  0,  0],\n",
       "       [ 1, 81,  0,  1,  1,  1,  1,  0,  1,  4],\n",
       "       [ 0,  0, 86,  0,  0,  0,  0,  0,  0,  0],\n",
       "       [ 0,  0,  0, 77,  0,  3,  0,  2,  9,  0],\n",
       "       [ 0,  1,  0,  0, 82,  0,  6,  0,  0,  3],\n",
       "       [ 0,  1,  1,  0,  0, 84,  1,  0,  1,  3],\n",
       "       [ 0,  1,  0,  0,  0,  0, 90,  0,  0,  0],\n",
       "       [ 0,  0,  0,  0,  1,  0,  0, 85,  0,  3],\n",
       "       [ 0,  3,  0,  0,  1,  3,  1,  0, 79,  1],\n",
       "       [ 1,  0,  0,  0,  0,  2,  0,  1,  2, 86]], dtype=int64)"
      ]
     },
     "execution_count": 20,
     "metadata": {},
     "output_type": "execute_result"
    }
   ],
   "source": [
    "metrics.confusion_matrix(digits.target[n//2:], pred)"
   ]
  }
 ],
 "metadata": {
  "kernelspec": {
   "display_name": "Python 3 (ipykernel)",
   "language": "python",
   "name": "python3"
  },
  "language_info": {
   "codemirror_mode": {
    "name": "ipython",
    "version": 3
   },
   "file_extension": ".py",
   "mimetype": "text/x-python",
   "name": "python",
   "nbconvert_exporter": "python",
   "pygments_lexer": "ipython3",
   "version": "3.9.12"
  }
 },
 "nbformat": 4,
 "nbformat_minor": 5
}
