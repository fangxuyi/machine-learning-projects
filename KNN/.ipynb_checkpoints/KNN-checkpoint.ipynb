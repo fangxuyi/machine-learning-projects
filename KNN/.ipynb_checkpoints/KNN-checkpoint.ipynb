{
 "cells": [
  {
   "cell_type": "code",
   "execution_count": 2,
   "id": "70f67fe6",
   "metadata": {},
   "outputs": [],
   "source": [
    "import numpy as np\n",
    "import pandas as pd\n",
    "from matplotlib import pyplot as plt"
   ]
  },
  {
   "cell_type": "code",
   "execution_count": 4,
   "id": "f47d167c",
   "metadata": {},
   "outputs": [
    {
     "name": "stdout",
     "output_type": "stream",
     "text": [
      "(42000, 785)\n"
     ]
    }
   ],
   "source": [
    "#load data\n",
    "data_dir = \"./input/\"\n",
    "\n",
    "def load_data(data_dir, train_row):\n",
    "    train = pd.read_csv(data_dir + \"train.csv\", sep=\",\", header = 0)\n",
    "    print(train.shape)\n",
    "    X_train = train.values[:train_row, 1:] #[train_row, 784]\n",
    "    y_train = train.values[:train_row, 0] #[train_row]\n",
    "    \n",
    "    X_test = pd.read_csv(data_dir + \"test.csv\", sep = ',', header = 0).values\n",
    "    return X_train, y_train, X_test\n",
    "\n",
    "train_row = 5000\n",
    "X_train_origin, y_train_origin, X_test_origin = load_data(data_dir, train_row)"
   ]
  },
  {
   "cell_type": "code",
   "execution_count": 5,
   "id": "0dec20e7",
   "metadata": {},
   "outputs": [
    {
     "name": "stdout",
     "output_type": "stream",
     "text": [
      "(5000, 784) (5000,) (28000, 784)\n"
     ]
    }
   ],
   "source": [
    "print(X_train_origin.shape, y_train_origin.shape, X_test_origin.shape)"
   ]
  },
  {
   "cell_type": "code",
   "execution_count": 6,
   "id": "698d2ed2",
   "metadata": {},
   "outputs": [
    {
     "data": {
      "text/plain": [
       "array([  0,   0,   0,   0,   0,   0,   0,   0,   0,   0,   0,   0,   0,\n",
       "         0,   0,   0,   0,   0,   0,   0,   0,   0,   0,   0,   0,   0,\n",
       "         0,   0,   0,   0,   0,   0,   0,   0,   0,   0,   0,   0,   0,\n",
       "         0,   0,   0,   0,   0,   0,   0,   0,   0,   0,   0,   0,   0,\n",
       "         0,   0,   0,   0,   0,   0,   0,   0,   0,   0,   0,   0,   0,\n",
       "         0,   0,   0,   0,   0,   0,   0,   0,   0,   0,   0,   0,   0,\n",
       "         0,   0,   0,   0,   0,   0,   0,   0,   0,   0,   0,   0,   0,\n",
       "         0,   0,   0,   0,   0,   0,   0,   0,   0,   0,   0,   0,   0,\n",
       "         0,   0,   0,   0,   0,   0,   0,   0,   0,   0,   0,   0,   0,\n",
       "         0,   0,   0,   0,   0,   0,   0,   0,   0,   0,   0,   0,   0,\n",
       "         0,   0, 188, 255,  94,   0,   0,   0,   0,   0,   0,   0,   0,\n",
       "         0,   0,   0,   0,   0,   0,   0,   0,   0,   0,   0,   0,   0,\n",
       "         0,   0,   0, 191, 250, 253,  93,   0,   0,   0,   0,   0,   0,\n",
       "         0,   0,   0,   0,   0,   0,   0,   0,   0,   0,   0,   0,   0,\n",
       "         0,   0,   0,   0, 123, 248, 253, 167,  10,   0,   0,   0,   0,\n",
       "         0,   0,   0,   0,   0,   0,   0,   0,   0,   0,   0,   0,   0,\n",
       "         0,   0,   0,   0,   0,  80, 247, 253, 208,  13,   0,   0,   0,\n",
       "         0,   0,   0,   0,   0,   0,   0,   0,   0,   0,   0,   0,   0,\n",
       "         0,   0,   0,   0,   0,   0,  29, 207, 253, 235,  77,   0,   0,\n",
       "         0,   0,   0,   0,   0,   0,   0,   0,   0,   0,   0,   0,   0,\n",
       "         0,   0,   0,   0,   0,   0,   0,  54, 209, 253, 253,  88,   0,\n",
       "         0,   0,   0,   0,   0,   0,   0,   0,   0,   0,   0,   0,   0,\n",
       "         0,   0,   0,   0,   0,   0,   0,   0,  93, 254, 253, 238, 170,\n",
       "        17,   0,   0,   0,   0,   0,   0,   0,   0,   0,   0,   0,   0,\n",
       "         0,   0,   0,   0,   0,   0,   0,   0,   0,  23, 210, 254, 253,\n",
       "       159,   0,   0,   0,   0,   0,   0,   0,   0,   0,   0,   0,   0,\n",
       "         0,   0,   0,   0,   0,   0,   0,   0,   0,   0,  16, 209, 253,\n",
       "       254, 240,  81,   0,   0,   0,   0,   0,   0,   0,   0,   0,   0,\n",
       "         0,   0,   0,   0,   0,   0,   0,   0,   0,   0,   0,   0,  27,\n",
       "       253, 253, 254,  13,   0,   0,   0,   0,   0,   0,   0,   0,   0,\n",
       "         0,   0,   0,   0,   0,   0,   0,   0,   0,   0,   0,   0,   0,\n",
       "        20, 206, 254, 254, 198,   7,   0,   0,   0,   0,   0,   0,   0,\n",
       "         0,   0,   0,   0,   0,   0,   0,   0,   0,   0,   0,   0,   0,\n",
       "         0,   0, 168, 253, 253, 196,   7,   0,   0,   0,   0,   0,   0,\n",
       "         0,   0,   0,   0,   0,   0,   0,   0,   0,   0,   0,   0,   0,\n",
       "         0,   0,   0,  20, 203, 253, 248,  76,   0,   0,   0,   0,   0,\n",
       "         0,   0,   0,   0,   0,   0,   0,   0,   0,   0,   0,   0,   0,\n",
       "         0,   0,   0,   0,  22, 188, 253, 245,  93,   0,   0,   0,   0,\n",
       "         0,   0,   0,   0,   0,   0,   0,   0,   0,   0,   0,   0,   0,\n",
       "         0,   0,   0,   0,   0,   0, 103, 253, 253, 191,   0,   0,   0,\n",
       "         0,   0,   0,   0,   0,   0,   0,   0,   0,   0,   0,   0,   0,\n",
       "         0,   0,   0,   0,   0,   0,   0,  89, 240, 253, 195,  25,   0,\n",
       "         0,   0,   0,   0,   0,   0,   0,   0,   0,   0,   0,   0,   0,\n",
       "         0,   0,   0,   0,   0,   0,   0,   0,  15, 220, 253, 253,  80,\n",
       "         0,   0,   0,   0,   0,   0,   0,   0,   0,   0,   0,   0,   0,\n",
       "         0,   0,   0,   0,   0,   0,   0,   0,   0,   0,  94, 253, 253,\n",
       "       253,  94,   0,   0,   0,   0,   0,   0,   0,   0,   0,   0,   0,\n",
       "         0,   0,   0,   0,   0,   0,   0,   0,   0,   0,   0,   0,  89,\n",
       "       251, 253, 250, 131,   0,   0,   0,   0,   0,   0,   0,   0,   0,\n",
       "         0,   0,   0,   0,   0,   0,   0,   0,   0,   0,   0,   0,   0,\n",
       "         0,   0, 214, 218,  95,   0,   0,   0,   0,   0,   0,   0,   0,\n",
       "         0,   0,   0,   0,   0,   0,   0,   0,   0,   0,   0,   0,   0,\n",
       "         0,   0,   0,   0,   0,   0,   0,   0,   0,   0,   0,   0,   0,\n",
       "         0,   0,   0,   0,   0,   0,   0,   0,   0,   0,   0,   0,   0,\n",
       "         0,   0,   0,   0,   0,   0,   0,   0,   0,   0,   0,   0,   0,\n",
       "         0,   0,   0,   0,   0,   0,   0,   0,   0,   0,   0,   0,   0,\n",
       "         0,   0,   0,   0,   0,   0,   0,   0,   0,   0,   0,   0,   0,\n",
       "         0,   0,   0,   0,   0,   0,   0,   0,   0,   0,   0,   0,   0,\n",
       "         0,   0,   0,   0,   0,   0,   0,   0,   0,   0,   0,   0,   0,\n",
       "         0,   0,   0,   0,   0,   0,   0,   0,   0,   0,   0,   0,   0,\n",
       "         0,   0,   0,   0], dtype=int64)"
      ]
     },
     "execution_count": 6,
     "metadata": {},
     "output_type": "execute_result"
    }
   ],
   "source": [
    "X_train_origin[0]"
   ]
  },
  {
   "cell_type": "code",
   "execution_count": 9,
   "id": "73ded664",
   "metadata": {},
   "outputs": [
    {
     "name": "stdout",
     "output_type": "stream",
     "text": [
      "9\n"
     ]
    },
    {
     "data": {
      "text/plain": [
       "<matplotlib.image.AxesImage at 0x1a93368c5b0>"
      ]
     },
     "execution_count": 9,
     "metadata": {},
     "output_type": "execute_result"
    },
    {
     "data": {
      "image/png": "[encoded data removed]",
      "text/plain": [
       "<Figure size 432x288 with 1 Axes>"
      ]
     },
     "metadata": {
      "needs_background": "light"
     },
     "output_type": "display_data"
    }
   ],
   "source": [
    "#display image\n",
    "row = 100\n",
    "print(y_train_origin[row])\n",
    "\n",
    "plt.imshow(X_train_origin[row].reshape((28,28)))"
   ]
  },
  {
   "cell_type": "code",
   "execution_count": 10,
   "id": "f72bdfdd",
   "metadata": {},
   "outputs": [
    {
     "name": "stdout",
     "output_type": "stream",
     "text": [
      "['0', '1', '2', '3', '4', '5', '6', '7', '8', '9']\n"
     ]
    },
    {
     "data": {
      "image/png": "[encoded data removed]",
      "text/plain": [
       "<Figure size 432x288 with 40 Axes>"
      ]
     },
     "metadata": {
      "needs_background": "light"
     },
     "output_type": "display_data"
    }
   ],
   "source": [
    "classes = ['0','1','2','3','4','5','6','7','8','9']\n",
    "rows = 4\n",
    "\n",
    "print(classes)\n",
    "for y, cls in enumerate(classes):\n",
    "    idxs = np.nonzero([i == y for i in y_train_origin])\n",
    "    idxs = np.random.choice(idxs[0], rows)\n",
    "    for i, idx in enumerate(idxs):\n",
    "        plt_idx = i * len(classes) + y + 1\n",
    "        plt.subplot(rows, len(classes), plt_idx)\n",
    "        plt.imshow(X_train_origin[idx].reshape((28, 28)))\n",
    "        plt.axis(\"off\")\n",
    "        if i == 0:\n",
    "            plt.title(cls)\n",
    "\n",
    "plt.show()"
   ]
  },
  {
   "cell_type": "code",
   "execution_count": 12,
   "id": "13e03eb2",
   "metadata": {},
   "outputs": [
    {
     "name": "stdout",
     "output_type": "stream",
     "text": [
      "(4000, 784) (1000, 784) (4000,) (1000,)\n"
     ]
    }
   ],
   "source": [
    "#train model\n",
    "from sklearn.model_selection import train_test_split\n",
    "\n",
    "X_train, X_valid, y_train, y_valid = train_test_split(X_train_origin, y_train_origin, test_size=0.2, random_state=0)\n",
    "print(X_train.shape, X_valid.shape, y_train.shape, y_valid.shape)"
   ]
  },
  {
   "cell_type": "code",
   "execution_count": 14,
   "id": "2a0a495b",
   "metadata": {},
   "outputs": [],
   "source": [
    "from sklearn.neighbors import KNeighborsClassifier\n",
    "from sklearn.metrics import accuracy_score, classification_report, confusion_matrix"
   ]
  },
  {
   "cell_type": "code",
   "execution_count": 16,
   "id": "04df9030",
   "metadata": {},
   "outputs": [
    {
     "name": "stdout",
     "output_type": "stream",
     "text": [
      "k = 1\n",
      "              precision    recall  f1-score   support\n",
      "\n",
      "           0       0.96      0.98      0.97       103\n",
      "           1       0.90      0.98      0.94       100\n",
      "           2       0.97      0.88      0.92       104\n",
      "           3       0.89      0.93      0.91       100\n",
      "           4       0.93      0.93      0.93       107\n",
      "           5       0.95      0.88      0.92        94\n",
      "           6       0.93      0.97      0.95        93\n",
      "           7       0.92      0.94      0.93       116\n",
      "           8       0.89      0.85      0.87        85\n",
      "           9       0.85      0.85      0.85        98\n",
      "\n",
      "    accuracy                           0.92      1000\n",
      "   macro avg       0.92      0.92      0.92      1000\n",
      "weighted avg       0.92      0.92      0.92      1000\n",
      "\n",
      "[[101   0   0   1   0   0   1   0   0   0]\n",
      " [  0  98   0   1   0   0   0   0   0   1]\n",
      " [  0   1  91   2   2   0   1   2   3   2]\n",
      " [  0   0   1  93   0   1   0   1   3   1]\n",
      " [  0   0   0   0  99   0   1   0   0   7]\n",
      " [  0   2   1   3   0  83   3   0   2   0]\n",
      " [  1   1   0   0   0   0  90   0   1   0]\n",
      " [  0   4   0   0   1   0   0 109   0   2]\n",
      " [  0   2   1   3   1   3   1   0  72   2]\n",
      " [  3   1   0   1   4   0   0   6   0  83]]\n",
      "k = 2\n",
      "              precision    recall  f1-score   support\n",
      "\n",
      "           0       0.89      0.99      0.94       103\n",
      "           1       0.85      0.99      0.92       100\n",
      "           2       0.94      0.88      0.91       104\n",
      "           3       0.89      0.94      0.91       100\n",
      "           4       0.91      0.99      0.95       107\n",
      "           5       0.94      0.84      0.89        94\n",
      "           6       0.95      0.96      0.95        93\n",
      "           7       0.90      0.91      0.90       116\n",
      "           8       0.93      0.75      0.83        85\n",
      "           9       0.90      0.78      0.84        98\n",
      "\n",
      "    accuracy                           0.91      1000\n",
      "   macro avg       0.91      0.90      0.90      1000\n",
      "weighted avg       0.91      0.91      0.90      1000\n",
      "\n",
      "[[102   0   0   1   0   0   0   0   0   0]\n",
      " [  0  99   0   0   0   0   0   0   0   1]\n",
      " [  3   2  92   0   0   0   0   2   3   2]\n",
      " [  1   0   1  94   0   0   0   1   2   1]\n",
      " [  0   0   0   0 106   0   0   0   0   1]\n",
      " [  1   3   1   5   1  79   4   0   0   0]\n",
      " [  3   1   0   0   0   0  89   0   0   0]\n",
      " [  0   7   1   0   2   0   0 105   0   1]\n",
      " [  2   3   3   4   1   5   1   0  64   2]\n",
      " [  3   1   0   2   7   0   0   9   0  76]]\n",
      "k = 3\n",
      "              precision    recall  f1-score   support\n",
      "\n",
      "           0       0.94      0.98      0.96       103\n",
      "           1       0.84      0.98      0.90       100\n",
      "           2       0.95      0.88      0.92       104\n",
      "           3       0.94      0.96      0.95       100\n",
      "           4       0.95      0.93      0.94       107\n",
      "           5       0.97      0.89      0.93        94\n",
      "           6       0.92      0.97      0.94        93\n",
      "           7       0.94      0.91      0.92       116\n",
      "           8       0.92      0.82      0.87        85\n",
      "           9       0.86      0.87      0.86        98\n",
      "\n",
      "    accuracy                           0.92      1000\n",
      "   macro avg       0.92      0.92      0.92      1000\n",
      "weighted avg       0.92      0.92      0.92      1000\n",
      "\n",
      "[[101   0   0   0   0   0   2   0   0   0]\n",
      " [  0  98   0   0   0   0   1   0   0   1]\n",
      " [  1   3  92   1   0   0   0   2   3   2]\n",
      " [  0   0   0  96   0   0   0   1   2   1]\n",
      " [  0   0   0   0  99   0   1   0   0   7]\n",
      " [  0   3   1   2   0  84   3   0   1   0]\n",
      " [  2   0   0   0   0   1  90   0   0   0]\n",
      " [  0   9   0   0   1   0   0 105   0   1]\n",
      " [  1   3   3   2   1   2   1   0  70   2]\n",
      " [  3   1   1   1   3   0   0   4   0  85]]\n",
      "k = 4\n",
      "              precision    recall  f1-score   support\n",
      "\n",
      "           0       0.94      0.98      0.96       103\n",
      "           1       0.87      0.98      0.92       100\n",
      "           2       0.94      0.89      0.92       104\n",
      "           3       0.94      0.93      0.93       100\n",
      "           4       0.94      0.94      0.94       107\n",
      "           5       0.94      0.87      0.91        94\n",
      "           6       0.90      0.98      0.94        93\n",
      "           7       0.91      0.92      0.91       116\n",
      "           8       0.93      0.80      0.86        85\n",
      "           9       0.86      0.83      0.84        98\n",
      "\n",
      "    accuracy                           0.92      1000\n",
      "   macro avg       0.92      0.91      0.91      1000\n",
      "weighted avg       0.92      0.92      0.91      1000\n",
      "\n",
      "[[101   0   0   0   0   0   2   0   0   0]\n",
      " [  0  98   0   0   0   0   1   0   0   1]\n",
      " [  0   3  93   1   0   0   0   3   3   1]\n",
      " [  1   0   1  93   0   0   1   1   2   1]\n",
      " [  0   0   0   0 101   0   0   0   0   6]\n",
      " [  1   3   1   2   0  82   5   0   0   0]\n",
      " [  1   0   0   0   0   1  91   0   0   0]\n",
      " [  0   5   0   0   2   0   0 107   0   2]\n",
      " [  1   3   3   2   1   4   1   0  68   2]\n",
      " [  3   1   1   1   4   0   0   7   0  81]]\n",
      "k = 5\n",
      "              precision    recall  f1-score   support\n",
      "\n",
      "           0       0.94      0.98      0.96       103\n",
      "           1       0.85      0.98      0.91       100\n",
      "           2       0.97      0.91      0.94       104\n",
      "           3       0.94      0.92      0.93       100\n",
      "           4       0.94      0.93      0.93       107\n",
      "           5       0.92      0.86      0.89        94\n",
      "           6       0.88      0.98      0.93        93\n",
      "           7       0.93      0.90      0.91       116\n",
      "           8       0.93      0.81      0.87        85\n",
      "           9       0.86      0.87      0.86        98\n",
      "\n",
      "    accuracy                           0.92      1000\n",
      "   macro avg       0.92      0.91      0.91      1000\n",
      "weighted avg       0.92      0.92      0.91      1000\n",
      "\n",
      "[[101   0   0   0   0   0   2   0   0   0]\n",
      " [  0  98   0   0   0   0   1   0   0   1]\n",
      " [  0   3  95   0   0   0   0   2   3   1]\n",
      " [  1   0   1  92   0   1   1   1   2   1]\n",
      " [  0   0   0   0  99   0   1   0   0   7]\n",
      " [  1   3   1   2   0  81   6   0   0   0]\n",
      " [  1   0   0   0   0   1  91   0   0   0]\n",
      " [  0   7   0   0   3   0   0 104   0   2]\n",
      " [  1   3   0   3   1   5   1   0  69   2]\n",
      " [  3   1   1   1   2   0   0   5   0  85]]\n",
      "k = 6\n",
      "              precision    recall  f1-score   support\n",
      "\n",
      "           0       0.95      0.98      0.97       103\n",
      "           1       0.84      0.98      0.90       100\n",
      "           2       0.98      0.90      0.94       104\n",
      "           3       0.92      0.94      0.93       100\n",
      "           4       0.94      0.92      0.93       107\n",
      "           5       0.93      0.87      0.90        94\n",
      "           6       0.89      0.98      0.93        93\n",
      "           7       0.92      0.91      0.91       116\n",
      "           8       0.93      0.79      0.85        85\n",
      "           9       0.85      0.86      0.85        98\n",
      "\n",
      "    accuracy                           0.91      1000\n",
      "   macro avg       0.92      0.91      0.91      1000\n",
      "weighted avg       0.92      0.91      0.91      1000\n",
      "\n",
      "[[101   0   0   0   0   0   2   0   0   0]\n",
      " [  0  98   0   0   0   0   1   0   0   1]\n",
      " [  0   3  94   1   0   0   0   2   3   1]\n",
      " [  0   0   1  94   0   0   1   1   2   1]\n",
      " [  0   2   0   0  98   0   1   0   0   6]\n",
      " [  1   3   0   2   0  82   5   0   0   1]\n",
      " [  1   0   0   0   0   1  91   0   0   0]\n",
      " [  0   7   0   0   2   0   0 105   0   2]\n",
      " [  1   3   0   4   1   5   1   0  67   3]\n",
      " [  2   1   1   1   3   0   0   6   0  84]]\n",
      "k = 7\n",
      "              precision    recall  f1-score   support\n",
      "\n",
      "           0       0.94      0.98      0.96       103\n",
      "           1       0.83      0.98      0.90       100\n",
      "           2       0.98      0.89      0.93       104\n",
      "           3       0.95      0.92      0.93       100\n",
      "           4       0.95      0.93      0.94       107\n",
      "           5       0.93      0.89      0.91        94\n",
      "           6       0.88      0.97      0.92        93\n",
      "           7       0.90      0.90      0.90       116\n",
      "           8       0.97      0.81      0.88        85\n",
      "           9       0.84      0.87      0.85        98\n",
      "\n",
      "    accuracy                           0.92      1000\n",
      "   macro avg       0.92      0.91      0.91      1000\n",
      "weighted avg       0.92      0.92      0.92      1000\n",
      "\n",
      "[[101   0   0   0   0   0   2   0   0   0]\n",
      " [  0  98   0   0   0   0   1   0   0   1]\n",
      " [  0   4  93   1   0   0   0   4   1   1]\n",
      " [  0   0   1  92   0   1   1   2   1   2]\n",
      " [  0   0   0   0  99   0   1   0   0   7]\n",
      " [  0   3   0   1   0  84   6   0   0   0]\n",
      " [  2   0   0   0   0   1  90   0   0   0]\n",
      " [  0   9   0   0   1   0   0 104   0   2]\n",
      " [  2   3   0   2   1   4   1   0  69   3]\n",
      " [  2   1   1   1   3   0   0   5   0  85]]\n"
     ]
    }
   ],
   "source": [
    "ans_k = 0\n",
    "k_range = range(1, 8)\n",
    "scores = []\n",
    "\n",
    "for k in k_range:\n",
    "    print('k = {}'.format(k))\n",
    "    model = KNeighborsClassifier(n_neighbors=k)\n",
    "    model.fit(X_train, y_train)\n",
    "    y_pred = model.predict(X_valid)\n",
    "    accuracy = accuracy_score(y_valid, y_pred)\n",
    "    scores.append(accuracy)\n",
    "    \n",
    "    print(classification_report(y_valid, y_pred))\n",
    "    print(confusion_matrix(y_valid, y_pred))"
   ]
  },
  {
   "cell_type": "code",
   "execution_count": 18,
   "id": "7309ee43",
   "metadata": {},
   "outputs": [
    {
     "data": {
      "image/png": "[encoded data removed]",
      "text/plain": [
       "<Figure size 432x288 with 1 Axes>"
      ]
     },
     "metadata": {
      "needs_background": "light"
     },
     "output_type": "display_data"
    }
   ],
   "source": [
    "plt.plot(range(1, 8), scores)\n",
    "plt.show()"
   ]
  },
  {
   "cell_type": "code",
   "execution_count": 20,
   "id": "af0d5255",
   "metadata": {},
   "outputs": [],
   "source": [
    "#test\n",
    "k = 3\n",
    "model = KNeighborsClassifier(n_neighbors=k)\n",
    "model.fit(X_train_origin, y_train_origin)\n",
    "y_test_pred = model.predict(X_test_origin)"
   ]
  }
 ],
 "metadata": {
  "kernelspec": {
   "display_name": "Python 3 (ipykernel)",
   "language": "python",
   "name": "python3"
  },
  "language_info": {
   "codemirror_mode": {
    "name": "ipython",
    "version": 3
   },
   "file_extension": ".py",
   "mimetype": "text/x-python",
   "name": "python",
   "nbconvert_exporter": "python",
   "pygments_lexer": "ipython3",
   "version": "3.9.12"
  }
 },
 "nbformat": 4,
 "nbformat_minor": 5
}
