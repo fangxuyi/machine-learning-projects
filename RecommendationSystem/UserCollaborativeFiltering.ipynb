{
 "cells": [
  {
   "cell_type": "code",
   "execution_count": 1,
   "id": "625b8561",
   "metadata": {},
   "outputs": [],
   "source": [
    "from collections import defaultdict\n",
    "from matplotlib import pyplot as plt\n",
    "from sklearn.model_selection import train_test_split\n",
    "from tqdm import tqdm\n",
    "import numpy as np\n",
    "import pandas as pd\n",
    "import random\n",
    "import time"
   ]
  },
  {
   "cell_type": "code",
   "execution_count": 3,
   "id": "74507a09",
   "metadata": {},
   "outputs": [
    {
     "data": {
      "text/html": [
       "<div>\n",
       "<style scoped>\n",
       "    .dataframe tbody tr th:only-of-type {\n",
       "        vertical-align: middle;\n",
       "    }\n",
       "\n",
       "    .dataframe tbody tr th {\n",
       "        vertical-align: top;\n",
       "    }\n",
       "\n",
       "    .dataframe thead th {\n",
       "        text-align: right;\n",
       "    }\n",
       "</style>\n",
       "<table border=\"1\" class=\"dataframe\">\n",
       "  <thead>\n",
       "    <tr style=\"text-align: right;\">\n",
       "      <th></th>\n",
       "      <th>user_id</th>\n",
       "      <th>movie_id</th>\n",
       "      <th>rating</th>\n",
       "      <th>timestamp</th>\n",
       "    </tr>\n",
       "  </thead>\n",
       "  <tbody>\n",
       "    <tr>\n",
       "      <th>0</th>\n",
       "      <td>1</td>\n",
       "      <td>1193</td>\n",
       "      <td>5</td>\n",
       "      <td>978300760</td>\n",
       "    </tr>\n",
       "    <tr>\n",
       "      <th>1</th>\n",
       "      <td>1</td>\n",
       "      <td>661</td>\n",
       "      <td>3</td>\n",
       "      <td>978302109</td>\n",
       "    </tr>\n",
       "    <tr>\n",
       "      <th>2</th>\n",
       "      <td>1</td>\n",
       "      <td>914</td>\n",
       "      <td>3</td>\n",
       "      <td>978301968</td>\n",
       "    </tr>\n",
       "    <tr>\n",
       "      <th>3</th>\n",
       "      <td>1</td>\n",
       "      <td>3408</td>\n",
       "      <td>4</td>\n",
       "      <td>978300275</td>\n",
       "    </tr>\n",
       "    <tr>\n",
       "      <th>4</th>\n",
       "      <td>1</td>\n",
       "      <td>2355</td>\n",
       "      <td>5</td>\n",
       "      <td>978824291</td>\n",
       "    </tr>\n",
       "  </tbody>\n",
       "</table>\n",
       "</div>"
      ],
      "text/plain": [
       "   user_id  movie_id  rating  timestamp\n",
       "0        1      1193       5  978300760\n",
       "1        1       661       3  978302109\n",
       "2        1       914       3  978301968\n",
       "3        1      3408       4  978300275\n",
       "4        1      2355       5  978824291"
      ]
     },
     "execution_count": 3,
     "metadata": {},
     "output_type": "execute_result"
    }
   ],
   "source": [
    "df = pd.read_csv('ratings.dat', sep='::', header=None, engine='python')\n",
    "df.columns = ['user_id', 'movie_id', 'rating', 'timestamp']\n",
    "df.head()"
   ]
  },
  {
   "cell_type": "code",
   "execution_count": 4,
   "id": "90fc705e",
   "metadata": {},
   "outputs": [
    {
     "data": {
      "text/plain": [
       "(1000209, 4)"
      ]
     },
     "execution_count": 4,
     "metadata": {},
     "output_type": "execute_result"
    }
   ],
   "source": [
    "df.shape"
   ]
  },
  {
   "cell_type": "code",
   "execution_count": 5,
   "id": "5902eb49",
   "metadata": {},
   "outputs": [
    {
     "data": {
      "text/plain": [
       "6040"
      ]
     },
     "execution_count": 5,
     "metadata": {},
     "output_type": "execute_result"
    }
   ],
   "source": [
    "all_user_cnt = len(df.user_id.unique())\n",
    "all_user_cnt"
   ]
  },
  {
   "cell_type": "code",
   "execution_count": 6,
   "id": "e3b9a9d8",
   "metadata": {},
   "outputs": [
    {
     "data": {
      "text/plain": [
       "3706"
      ]
     },
     "execution_count": 6,
     "metadata": {},
     "output_type": "execute_result"
    }
   ],
   "source": [
    "all_movies = set(df.movie_id.unique())\n",
    "all_movie_cnt = len(all_movies)\n",
    "all_movie_cnt"
   ]
  },
  {
   "cell_type": "markdown",
   "id": "8b5b64fe",
   "metadata": {},
   "source": [
    "## Train test split"
   ]
  },
  {
   "cell_type": "code",
   "execution_count": 7,
   "id": "a1fbf3cf",
   "metadata": {},
   "outputs": [],
   "source": [
    "X, y = df[['user_id', 'movie_id']].values, df['rating'].values\n",
    "X_train, X_test, y_train, y_test = train_test_split(X, y, test_size=1/8, random_state=0)"
   ]
  },
  {
   "cell_type": "code",
   "execution_count": 8,
   "id": "fdcd1a87",
   "metadata": {},
   "outputs": [
    {
     "name": "stdout",
     "output_type": "stream",
     "text": [
      "(875182, 2) (875182,) (125027, 2) (125027,)\n"
     ]
    }
   ],
   "source": [
    "print(X_train.shape, y_train.shape, X_test.shape, y_test.shape)"
   ]
  },
  {
   "cell_type": "code",
   "execution_count": 9,
   "id": "4cbed7c5",
   "metadata": {},
   "outputs": [],
   "source": [
    "movie_popularity = defaultdict(int)\n",
    "for _, m_id in X_train:\n",
    "    movie_popularity[m_id] += 1"
   ]
  },
  {
   "cell_type": "code",
   "execution_count": 10,
   "id": "dbf3b5f7",
   "metadata": {},
   "outputs": [
    {
     "data": {
      "image/png": "[encoded data removed]",
      "text/plain": [
       "<Figure size 432x288 with 1 Axes>"
      ]
     },
     "metadata": {
      "needs_background": "light"
     },
     "output_type": "display_data"
    }
   ],
   "source": [
    "sorted_movie_popularity = sorted(movie_popularity.items(), key=lambda x: x[1], reverse=True)\n",
    "plt.plot(list(map(lambda x: x[1], sorted_movie_popularity)), linewidth=3)\n",
    "plt.title('Movie popularity')\n",
    "plt.ylabel('Popularity')\n",
    "plt.xlabel('Movie')\n",
    "plt.show()"
   ]
  },
  {
   "cell_type": "markdown",
   "id": "43dfe17e",
   "metadata": {},
   "source": [
    "## User based collaborative filtering"
   ]
  },
  {
   "cell_type": "code",
   "execution_count": 11,
   "id": "f2a51cf3",
   "metadata": {},
   "outputs": [],
   "source": [
    "def get_user_movies(data): # all movies that a single user has ratings on\n",
    "    user_movies = defaultdict(set)\n",
    "    for u_id, m_id in data:\n",
    "        user_movies[u_id].add(m_id)\n",
    "    return user_movies"
   ]
  },
  {
   "cell_type": "code",
   "execution_count": 12,
   "id": "c7360e45",
   "metadata": {},
   "outputs": [],
   "source": [
    "user_movies_train = get_user_movies(X_train)\n",
    "user_movies_test = get_user_movies(X_test)"
   ]
  },
  {
   "cell_type": "markdown",
   "id": "24bb90ac",
   "metadata": {},
   "source": [
    "## User similarity calculation"
   ]
  },
  {
   "cell_type": "code",
   "execution_count": 13,
   "id": "b057ea8f",
   "metadata": {},
   "outputs": [],
   "source": [
    "def calc_user_similarity(user_movies): #dict of dict {'u':{'v': score}}\n",
    "    res = defaultdict(dict)\n",
    "    user_ids = user_movies.keys()\n",
    "    for u in tqdm(user_ids):\n",
    "        for v in user_ids:\n",
    "            if u < v:\n",
    "                res[v][u] = res[u][v] = len(user_movies[u] & user_movies[v]) / np.sqrt(len(user_movies[u]) * len(user_movies[v]))\n",
    "    return res"
   ]
  },
  {
   "cell_type": "code",
   "execution_count": 14,
   "id": "245ae20d",
   "metadata": {},
   "outputs": [
    {
     "name": "stderr",
     "output_type": "stream",
     "text": [
      "100%|██████████| 6040/6040 [02:04<00:00, 48.62it/s] "
     ]
    },
    {
     "name": "stdout",
     "output_type": "stream",
     "text": [
      "124.24386215209961\n"
     ]
    },
    {
     "name": "stderr",
     "output_type": "stream",
     "text": [
      "\n"
     ]
    }
   ],
   "source": [
    "start = time.time()\n",
    "user_similarities = calc_user_similarity(user_movies_train)\n",
    "print(time.time() - start)"
   ]
  },
  {
   "cell_type": "markdown",
   "id": "42724530",
   "metadata": {},
   "source": [
    "## Recommend items for a single user"
   ]
  },
  {
   "cell_type": "code",
   "execution_count": 15,
   "id": "07678ea8",
   "metadata": {},
   "outputs": [],
   "source": [
    "def recommend(user, user_movies, user_similarities, k):\n",
    "    res = defaultdict(float)\n",
    "    # calculate k users with the most similarity\n",
    "    sorted_users = sorted(user_similarities[user].items(), key=lambda x: x[1], reverse=True)\n",
    "    top_users = sorted_users[:k]\n",
    "    u_movies = user_movies[user]\n",
    "    for v, wuv in top_users:\n",
    "        v_movies = user_movies[v]\n",
    "        for m_id in v_movies:\n",
    "            if m_id not in u_movies:\n",
    "                res[m_id] += wuv * 1.0\n",
    "    return list(map(lambda x: x[0], sorted(res.items(), key=lambda x: x[1], reverse=True)))"
   ]
  },
  {
   "cell_type": "markdown",
   "id": "8d5e18a3",
   "metadata": {},
   "source": [
    "## Performance evaluation"
   ]
  },
  {
   "cell_type": "code",
   "execution_count": 16,
   "id": "5747f961",
   "metadata": {},
   "outputs": [],
   "source": [
    "def calc_metrics(user_movies, user_movies_reco, all_movie_cnt, n=None):\n",
    "    label_all, reco_all, hit = 0, 0, 0\n",
    "    all_movies_reco = []\n",
    "    for u_id in user_movies:\n",
    "        label_movies = user_movies[u_id]\n",
    "        reco_movies = user_movies_reco[u_id][:n] if n else user_movies_reco[u_id]\n",
    "        all_movies_reco += reco_movies\n",
    "        reco_movies = set(reco_movies)\n",
    "        label_all += len(label_movies)\n",
    "        reco_all += len(reco_movies)\n",
    "        hit += len(label_movies & reco_movies)\n",
    "    return {\n",
    "        'precision': hit / reco_all,\n",
    "        'recall': hit / label_all,\n",
    "        'coverage': len(set(all_movies_reco)) / all_movie_cnt\n",
    "    }"
   ]
  },
  {
   "cell_type": "code",
   "execution_count": 17,
   "id": "3d4858e1",
   "metadata": {},
   "outputs": [],
   "source": [
    "user_movies_reco = {}\n",
    "k = 10\n",
    "for u_id in user_movies_test:\n",
    "    user_movies_reco[u_id] = recommend(u_id, user_movies_train, user_similarities, k)"
   ]
  },
  {
   "cell_type": "code",
   "execution_count": 18,
   "id": "484c8d37",
   "metadata": {},
   "outputs": [
    {
     "data": {
      "text/plain": [
       "{'precision': 0.16812802133688948,\n",
       " 'recall': 0.1613411503115327,\n",
       " 'coverage': 0.5118726389638424}"
      ]
     },
     "execution_count": 18,
     "metadata": {},
     "output_type": "execute_result"
    }
   ],
   "source": [
    "calc_metrics(user_movies_test, user_movies_reco, all_movie_cnt, n = 20)"
   ]
  }
 ],
 "metadata": {
  "kernelspec": {
   "display_name": "Python 3 (ipykernel)",
   "language": "python",
   "name": "python3"
  },
  "language_info": {
   "codemirror_mode": {
    "name": "ipython",
    "version": 3
   },
   "file_extension": ".py",
   "mimetype": "text/x-python",
   "name": "python",
   "nbconvert_exporter": "python",
   "pygments_lexer": "ipython3",
   "version": "3.9.12"
  }
 },
 "nbformat": 4,
 "nbformat_minor": 5
}
